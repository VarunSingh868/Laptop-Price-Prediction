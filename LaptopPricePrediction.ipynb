{
 "cells": [
  {
   "cell_type": "code",
   "execution_count": 1,
   "metadata": {},
   "outputs": [],
   "source": [
    "import pandas as pd\n",
    "import numpy as np\n",
    "import matplotlib.pyplot as plt\n",
    "import seaborn as sns"
   ]
  },
  {
   "cell_type": "code",
   "execution_count": 2,
   "metadata": {},
   "outputs": [
    {
     "data": {
      "text/html": [
       "<div>\n",
       "<style scoped>\n",
       "    .dataframe tbody tr th:only-of-type {\n",
       "        vertical-align: middle;\n",
       "    }\n",
       "\n",
       "    .dataframe tbody tr th {\n",
       "        vertical-align: top;\n",
       "    }\n",
       "\n",
       "    .dataframe thead th {\n",
       "        text-align: right;\n",
       "    }\n",
       "</style>\n",
       "<table border=\"1\" class=\"dataframe\">\n",
       "  <thead>\n",
       "    <tr style=\"text-align: right;\">\n",
       "      <th></th>\n",
       "      <th>brand</th>\n",
       "      <th>price</th>\n",
       "      <th>type</th>\n",
       "      <th>colour</th>\n",
       "      <th>msoffice</th>\n",
       "      <th>RAM</th>\n",
       "      <th>RAMtype</th>\n",
       "      <th>SSD</th>\n",
       "      <th>SSDCap</th>\n",
       "      <th>HDDCap</th>\n",
       "      <th>...</th>\n",
       "      <th>GPUramcap</th>\n",
       "      <th>OS</th>\n",
       "      <th>Touchscreen</th>\n",
       "      <th>Screensize</th>\n",
       "      <th>Screenreso</th>\n",
       "      <th>refreshrate</th>\n",
       "      <th>Bluetooth</th>\n",
       "      <th>Weight</th>\n",
       "      <th>BacklitKB</th>\n",
       "      <th>warranty</th>\n",
       "    </tr>\n",
       "  </thead>\n",
       "  <tbody>\n",
       "    <tr>\n",
       "      <th>0</th>\n",
       "      <td>MSI</td>\n",
       "      <td>₹45,990</td>\n",
       "      <td>Gaming Laptop</td>\n",
       "      <td>Black</td>\n",
       "      <td>No</td>\n",
       "      <td>8 GB</td>\n",
       "      <td>DDR5</td>\n",
       "      <td>Yes</td>\n",
       "      <td>512 GB</td>\n",
       "      <td>0</td>\n",
       "      <td>...</td>\n",
       "      <td>4 GB</td>\n",
       "      <td>Windows 11 Home</td>\n",
       "      <td>No</td>\n",
       "      <td>39.62 cm (15.6 inch)</td>\n",
       "      <td>1920 X 1080 Pixel</td>\n",
       "      <td>144 Hz</td>\n",
       "      <td>v5.3</td>\n",
       "      <td>2.35 Kg</td>\n",
       "      <td>Yes</td>\n",
       "      <td>1 Year Carry-in Warranty</td>\n",
       "    </tr>\n",
       "    <tr>\n",
       "      <th>1</th>\n",
       "      <td>AXL</td>\n",
       "      <td>₹16,970</td>\n",
       "      <td>Thin and Light Laptop</td>\n",
       "      <td>Space Grey</td>\n",
       "      <td>No</td>\n",
       "      <td>4 GB</td>\n",
       "      <td>DDR4</td>\n",
       "      <td>Yes</td>\n",
       "      <td>256 GB</td>\n",
       "      <td>0</td>\n",
       "      <td>...</td>\n",
       "      <td>2 GB</td>\n",
       "      <td>Windows 11 Home</td>\n",
       "      <td>No</td>\n",
       "      <td>39.62 cm (15.6 inch)</td>\n",
       "      <td>1920*1080 pixel</td>\n",
       "      <td>60</td>\n",
       "      <td>yes</td>\n",
       "      <td>NaN</td>\n",
       "      <td>No</td>\n",
       "      <td>1 Year</td>\n",
       "    </tr>\n",
       "    <tr>\n",
       "      <th>2</th>\n",
       "      <td>HP</td>\n",
       "      <td>₹36,990</td>\n",
       "      <td>Thin and Light Laptop</td>\n",
       "      <td>Natural Silver</td>\n",
       "      <td>Yes</td>\n",
       "      <td>8 GB</td>\n",
       "      <td>DDR4</td>\n",
       "      <td>Yes</td>\n",
       "      <td>512 GB</td>\n",
       "      <td>0</td>\n",
       "      <td>...</td>\n",
       "      <td>2 GB</td>\n",
       "      <td>Windows 11 Home</td>\n",
       "      <td>No</td>\n",
       "      <td>39.62 cm (15.6 Inch)</td>\n",
       "      <td>1920 x 1080 Pixels</td>\n",
       "      <td>60</td>\n",
       "      <td>v5.0</td>\n",
       "      <td>1.69 kg</td>\n",
       "      <td>Yes</td>\n",
       "      <td>1 Year Onsite Warranty</td>\n",
       "    </tr>\n",
       "    <tr>\n",
       "      <th>3</th>\n",
       "      <td>Acer</td>\n",
       "      <td>₹29,990</td>\n",
       "      <td>Thin and Light Laptop</td>\n",
       "      <td>Steel Gray</td>\n",
       "      <td>No</td>\n",
       "      <td>8 GB</td>\n",
       "      <td>LPDDR5</td>\n",
       "      <td>Yes</td>\n",
       "      <td>512 GB</td>\n",
       "      <td>0</td>\n",
       "      <td>...</td>\n",
       "      <td>2 GB</td>\n",
       "      <td>Windows 11 Home</td>\n",
       "      <td>No</td>\n",
       "      <td>39.62 cm (15.6 Inch)</td>\n",
       "      <td>1920 x 1080 Pixel</td>\n",
       "      <td>60</td>\n",
       "      <td>v5.1</td>\n",
       "      <td>1.78 Kg</td>\n",
       "      <td>No</td>\n",
       "      <td>1 Year International Travelers Warranty</td>\n",
       "    </tr>\n",
       "    <tr>\n",
       "      <th>4</th>\n",
       "      <td>HP</td>\n",
       "      <td>₹32,990</td>\n",
       "      <td>Thin and Light Laptop</td>\n",
       "      <td>Natural Silver</td>\n",
       "      <td>Yes</td>\n",
       "      <td>8 GB</td>\n",
       "      <td>DDR4</td>\n",
       "      <td>Yes</td>\n",
       "      <td>512 GB</td>\n",
       "      <td>0</td>\n",
       "      <td>...</td>\n",
       "      <td>2 GB</td>\n",
       "      <td>Windows 11 Home</td>\n",
       "      <td>No</td>\n",
       "      <td>39.62 cm (15.6 inch)</td>\n",
       "      <td>1920 x 1080 Pixel</td>\n",
       "      <td>60</td>\n",
       "      <td>v4.2</td>\n",
       "      <td>1.69 Kg</td>\n",
       "      <td>No</td>\n",
       "      <td>1 Year Onsite Warranty</td>\n",
       "    </tr>\n",
       "  </tbody>\n",
       "</table>\n",
       "<p>5 rows × 26 columns</p>\n",
       "</div>"
      ],
      "text/plain": [
       "  brand    price                   type          colour msoffice   RAM  \\\n",
       "0   MSI  ₹45,990          Gaming Laptop           Black       No  8 GB   \n",
       "1   AXL  ₹16,970  Thin and Light Laptop      Space Grey       No  4 GB   \n",
       "2    HP  ₹36,990  Thin and Light Laptop  Natural Silver      Yes  8 GB   \n",
       "3  Acer  ₹29,990  Thin and Light Laptop      Steel Gray       No  8 GB   \n",
       "4    HP  ₹32,990  Thin and Light Laptop  Natural Silver      Yes  8 GB   \n",
       "\n",
       "  RAMtype  SSD  SSDCap HDDCap  ... GPUramcap               OS Touchscreen  \\\n",
       "0    DDR5  Yes  512 GB      0  ...      4 GB  Windows 11 Home          No   \n",
       "1    DDR4  Yes  256 GB      0  ...      2 GB  Windows 11 Home          No   \n",
       "2    DDR4  Yes  512 GB      0  ...      2 GB  Windows 11 Home          No   \n",
       "3  LPDDR5  Yes  512 GB      0  ...      2 GB  Windows 11 Home          No   \n",
       "4    DDR4  Yes  512 GB      0  ...      2 GB  Windows 11 Home          No   \n",
       "\n",
       "             Screensize          Screenreso refreshrate Bluetooth   Weight  \\\n",
       "0  39.62 cm (15.6 inch)   1920 X 1080 Pixel      144 Hz      v5.3  2.35 Kg   \n",
       "1  39.62 cm (15.6 inch)     1920*1080 pixel          60       yes      NaN   \n",
       "2  39.62 cm (15.6 Inch)  1920 x 1080 Pixels          60      v5.0  1.69 kg   \n",
       "3  39.62 cm (15.6 Inch)   1920 x 1080 Pixel          60      v5.1  1.78 Kg   \n",
       "4  39.62 cm (15.6 inch)   1920 x 1080 Pixel          60      v4.2  1.69 Kg   \n",
       "\n",
       "  BacklitKB                                 warranty  \n",
       "0       Yes                 1 Year Carry-in Warranty  \n",
       "1        No                                   1 Year  \n",
       "2       Yes                   1 Year Onsite Warranty  \n",
       "3        No  1 Year International Travelers Warranty  \n",
       "4        No                   1 Year Onsite Warranty  \n",
       "\n",
       "[5 rows x 26 columns]"
      ]
     },
     "execution_count": 2,
     "metadata": {},
     "output_type": "execute_result"
    }
   ],
   "source": [
    "df = pd.read_csv('laptop_details.csv')\n",
    "df.head(5)"
   ]
  },
  {
   "cell_type": "code",
   "execution_count": 3,
   "metadata": {},
   "outputs": [
    {
     "name": "stdout",
     "output_type": "stream",
     "text": [
      "<class 'pandas.core.frame.DataFrame'>\n",
      "RangeIndex: 959 entries, 0 to 958\n",
      "Data columns (total 26 columns):\n",
      " #   Column            Non-Null Count  Dtype \n",
      "---  ------            --------------  ----- \n",
      " 0   brand             959 non-null    object\n",
      " 1   price             959 non-null    object\n",
      " 2   type              959 non-null    object\n",
      " 3   colour            959 non-null    object\n",
      " 4   msoffice          959 non-null    object\n",
      " 5   RAM               959 non-null    object\n",
      " 6   RAMtype           959 non-null    object\n",
      " 7   SSD               959 non-null    object\n",
      " 8   SSDCap            959 non-null    object\n",
      " 9   HDDCap            959 non-null    object\n",
      " 10  ProcessorBrand    959 non-null    object\n",
      " 11  ProcessorName     959 non-null    object\n",
      " 12  ProcessorVariant  852 non-null    object\n",
      " 13  ClockSpeed        832 non-null    object\n",
      " 14  GPU               935 non-null    object\n",
      " 15  GPUramtype        959 non-null    object\n",
      " 16  GPUramcap         959 non-null    object\n",
      " 17  OS                959 non-null    object\n",
      " 18  Touchscreen       959 non-null    object\n",
      " 19  Screensize        959 non-null    object\n",
      " 20  Screenreso        959 non-null    object\n",
      " 21  refreshrate       959 non-null    object\n",
      " 22  Bluetooth         959 non-null    object\n",
      " 23  Weight            851 non-null    object\n",
      " 24  BacklitKB         904 non-null    object\n",
      " 25  warranty          959 non-null    object\n",
      "dtypes: object(26)\n",
      "memory usage: 194.9+ KB\n"
     ]
    }
   ],
   "source": [
    "df.info()"
   ]
  },
  {
   "cell_type": "code",
   "execution_count": 4,
   "metadata": {},
   "outputs": [],
   "source": [
    "columns = df.columns.tolist()\n",
    "columns.remove('price')\n",
    "columns.append('price')\n",
    "df = df[columns]"
   ]
  },
  {
   "cell_type": "code",
   "execution_count": 5,
   "metadata": {},
   "outputs": [
    {
     "data": {
      "text/plain": [
       "140"
      ]
     },
     "execution_count": 5,
     "metadata": {},
     "output_type": "execute_result"
    }
   ],
   "source": [
    "df.duplicated().sum()"
   ]
  },
  {
   "cell_type": "code",
   "execution_count": 6,
   "metadata": {},
   "outputs": [
    {
     "name": "stdout",
     "output_type": "stream",
     "text": [
      "<class 'pandas.core.frame.DataFrame'>\n",
      "Index: 819 entries, 0 to 958\n",
      "Data columns (total 26 columns):\n",
      " #   Column            Non-Null Count  Dtype \n",
      "---  ------            --------------  ----- \n",
      " 0   brand             819 non-null    object\n",
      " 1   type              819 non-null    object\n",
      " 2   colour            819 non-null    object\n",
      " 3   msoffice          819 non-null    object\n",
      " 4   RAM               819 non-null    object\n",
      " 5   RAMtype           819 non-null    object\n",
      " 6   SSD               819 non-null    object\n",
      " 7   SSDCap            819 non-null    object\n",
      " 8   HDDCap            819 non-null    object\n",
      " 9   ProcessorBrand    819 non-null    object\n",
      " 10  ProcessorName     819 non-null    object\n",
      " 11  ProcessorVariant  733 non-null    object\n",
      " 12  ClockSpeed        714 non-null    object\n",
      " 13  GPU               795 non-null    object\n",
      " 14  GPUramtype        819 non-null    object\n",
      " 15  GPUramcap         819 non-null    object\n",
      " 16  OS                819 non-null    object\n",
      " 17  Touchscreen       819 non-null    object\n",
      " 18  Screensize        819 non-null    object\n",
      " 19  Screenreso        819 non-null    object\n",
      " 20  refreshrate       819 non-null    object\n",
      " 21  Bluetooth         819 non-null    object\n",
      " 22  Weight            734 non-null    object\n",
      " 23  BacklitKB         768 non-null    object\n",
      " 24  warranty          819 non-null    object\n",
      " 25  price             819 non-null    object\n",
      "dtypes: object(26)\n",
      "memory usage: 172.8+ KB\n"
     ]
    }
   ],
   "source": [
    "df.drop_duplicates(inplace=True)\n",
    "df.duplicated().sum()\n",
    "df.info()"
   ]
  },
  {
   "cell_type": "code",
   "execution_count": 7,
   "metadata": {},
   "outputs": [
    {
     "data": {
      "text/plain": [
       "brand                 0\n",
       "type                  0\n",
       "colour                0\n",
       "msoffice              0\n",
       "RAM                   0\n",
       "RAMtype               0\n",
       "SSD                   0\n",
       "SSDCap                0\n",
       "HDDCap                0\n",
       "ProcessorBrand        0\n",
       "ProcessorName         0\n",
       "ProcessorVariant     86\n",
       "ClockSpeed          105\n",
       "GPU                  24\n",
       "GPUramtype            0\n",
       "GPUramcap             0\n",
       "OS                    0\n",
       "Touchscreen           0\n",
       "Screensize            0\n",
       "Screenreso            0\n",
       "refreshrate           0\n",
       "Bluetooth             0\n",
       "Weight               85\n",
       "BacklitKB            51\n",
       "warranty              0\n",
       "price                 0\n",
       "dtype: int64"
      ]
     },
     "execution_count": 7,
     "metadata": {},
     "output_type": "execute_result"
    }
   ],
   "source": [
    "df.isnull().sum()"
   ]
  },
  {
   "cell_type": "code",
   "execution_count": 8,
   "metadata": {},
   "outputs": [
    {
     "data": {
      "text/plain": [
       "0      45990\n",
       "1      16970\n",
       "2      36990\n",
       "3      29990\n",
       "4      32990\n",
       "       ...  \n",
       "954    61990\n",
       "955    87190\n",
       "956    37790\n",
       "957    85999\n",
       "958    90900\n",
       "Name: price, Length: 819, dtype: int64"
      ]
     },
     "execution_count": 8,
     "metadata": {},
     "output_type": "execute_result"
    }
   ],
   "source": [
    "df['price'] = df['price'].str.replace('₹', '')  \n",
    "df['price'] = df['price'].str.replace(',', '')  \n",
    "df['price'] = pd.to_numeric(df['price'])  \n",
    "df['price']      "
   ]
  },
  {
   "cell_type": "markdown",
   "metadata": {},
   "source": [
    "### Analysing 'RAM' Column"
   ]
  },
  {
   "cell_type": "code",
   "execution_count": 9,
   "metadata": {},
   "outputs": [
    {
     "data": {
      "image/png": "[encoded data removed]",
      "text/plain": [
       "<Figure size 800x500 with 1 Axes>"
      ]
     },
     "metadata": {},
     "output_type": "display_data"
    }
   ],
   "source": [
    "plt.figure(figsize=(8, 5))\n",
    "df['RAM'].value_counts().plot(kind='bar', color='red')\n",
    "plt.title('RAM Distribution')\n",
    "plt.xlabel('RAM (GB)')\n",
    "plt.ylabel('Count')\n",
    "plt.show()"
   ]
  },
  {
   "cell_type": "code",
   "execution_count": 10,
   "metadata": {},
   "outputs": [
    {
     "data": {
      "text/plain": [
       "0"
      ]
     },
     "execution_count": 10,
     "metadata": {},
     "output_type": "execute_result"
    }
   ],
   "source": [
    "df['RAM'].isnull().sum()"
   ]
  },
  {
   "cell_type": "code",
   "execution_count": 11,
   "metadata": {},
   "outputs": [
    {
     "data": {
      "text/plain": [
       "array(['8 GB', '4 GB', '12 GB', '16 GB', '32 GB', '36 GB', '18 GB',\n",
       "       '64 GB', '2 GB'], dtype=object)"
      ]
     },
     "execution_count": 11,
     "metadata": {},
     "output_type": "execute_result"
    }
   ],
   "source": [
    "df['RAM'].unique()"
   ]
  },
  {
   "cell_type": "code",
   "execution_count": 12,
   "metadata": {},
   "outputs": [
    {
     "data": {
      "text/plain": [
       "0       8\n",
       "1       4\n",
       "2       8\n",
       "3       8\n",
       "4       8\n",
       "       ..\n",
       "954     8\n",
       "955    16\n",
       "956     8\n",
       "957    16\n",
       "958    16\n",
       "Name: RAM, Length: 819, dtype: int64"
      ]
     },
     "execution_count": 12,
     "metadata": {},
     "output_type": "execute_result"
    }
   ],
   "source": [
    "df['RAM'] = df['RAM'].apply(lambda x: int(x.split()[0]))\n",
    "df['RAM']"
   ]
  },
  {
   "cell_type": "code",
   "execution_count": 13,
   "metadata": {},
   "outputs": [
    {
     "name": "stdout",
     "output_type": "stream",
     "text": [
      "0.7008516895437344\n"
     ]
    }
   ],
   "source": [
    "corr = df['RAM'].corr(df['price'])\n",
    "print(corr)"
   ]
  },
  {
   "cell_type": "code",
   "execution_count": 14,
   "metadata": {},
   "outputs": [
    {
     "data": {
      "text/html": [
       "<div>\n",
       "<style scoped>\n",
       "    .dataframe tbody tr th:only-of-type {\n",
       "        vertical-align: middle;\n",
       "    }\n",
       "\n",
       "    .dataframe tbody tr th {\n",
       "        vertical-align: top;\n",
       "    }\n",
       "\n",
       "    .dataframe thead th {\n",
       "        text-align: right;\n",
       "    }\n",
       "</style>\n",
       "<table border=\"1\" class=\"dataframe\">\n",
       "  <thead>\n",
       "    <tr style=\"text-align: right;\">\n",
       "      <th></th>\n",
       "      <th>brand</th>\n",
       "      <th>type</th>\n",
       "      <th>colour</th>\n",
       "      <th>msoffice</th>\n",
       "      <th>RAM</th>\n",
       "      <th>RAMtype</th>\n",
       "      <th>SSD</th>\n",
       "      <th>SSDCap</th>\n",
       "      <th>HDDCap</th>\n",
       "      <th>ProcessorBrand</th>\n",
       "      <th>...</th>\n",
       "      <th>OS</th>\n",
       "      <th>Touchscreen</th>\n",
       "      <th>Screensize</th>\n",
       "      <th>Screenreso</th>\n",
       "      <th>refreshrate</th>\n",
       "      <th>Bluetooth</th>\n",
       "      <th>Weight</th>\n",
       "      <th>BacklitKB</th>\n",
       "      <th>warranty</th>\n",
       "      <th>price</th>\n",
       "    </tr>\n",
       "  </thead>\n",
       "  <tbody>\n",
       "    <tr>\n",
       "      <th>0</th>\n",
       "      <td>MSI</td>\n",
       "      <td>Gaming Laptop</td>\n",
       "      <td>Black</td>\n",
       "      <td>No</td>\n",
       "      <td>8</td>\n",
       "      <td>DDR5</td>\n",
       "      <td>Yes</td>\n",
       "      <td>512 GB</td>\n",
       "      <td>0</td>\n",
       "      <td>AMD</td>\n",
       "      <td>...</td>\n",
       "      <td>Windows 11 Home</td>\n",
       "      <td>No</td>\n",
       "      <td>39.62 cm (15.6 inch)</td>\n",
       "      <td>1920 X 1080 Pixel</td>\n",
       "      <td>144 Hz</td>\n",
       "      <td>v5.3</td>\n",
       "      <td>2.35 Kg</td>\n",
       "      <td>Yes</td>\n",
       "      <td>1 Year Carry-in Warranty</td>\n",
       "      <td>45990</td>\n",
       "    </tr>\n",
       "    <tr>\n",
       "      <th>1</th>\n",
       "      <td>AXL</td>\n",
       "      <td>Thin and Light Laptop</td>\n",
       "      <td>Space Grey</td>\n",
       "      <td>No</td>\n",
       "      <td>4</td>\n",
       "      <td>DDR4</td>\n",
       "      <td>Yes</td>\n",
       "      <td>256 GB</td>\n",
       "      <td>0</td>\n",
       "      <td>Intel</td>\n",
       "      <td>...</td>\n",
       "      <td>Windows 11 Home</td>\n",
       "      <td>No</td>\n",
       "      <td>39.62 cm (15.6 inch)</td>\n",
       "      <td>1920*1080 pixel</td>\n",
       "      <td>60</td>\n",
       "      <td>yes</td>\n",
       "      <td>NaN</td>\n",
       "      <td>No</td>\n",
       "      <td>1 Year</td>\n",
       "      <td>16970</td>\n",
       "    </tr>\n",
       "    <tr>\n",
       "      <th>2</th>\n",
       "      <td>HP</td>\n",
       "      <td>Thin and Light Laptop</td>\n",
       "      <td>Natural Silver</td>\n",
       "      <td>Yes</td>\n",
       "      <td>8</td>\n",
       "      <td>DDR4</td>\n",
       "      <td>Yes</td>\n",
       "      <td>512 GB</td>\n",
       "      <td>0</td>\n",
       "      <td>Intel</td>\n",
       "      <td>...</td>\n",
       "      <td>Windows 11 Home</td>\n",
       "      <td>No</td>\n",
       "      <td>39.62 cm (15.6 Inch)</td>\n",
       "      <td>1920 x 1080 Pixels</td>\n",
       "      <td>60</td>\n",
       "      <td>v5.0</td>\n",
       "      <td>1.69 kg</td>\n",
       "      <td>Yes</td>\n",
       "      <td>1 Year Onsite Warranty</td>\n",
       "      <td>36990</td>\n",
       "    </tr>\n",
       "    <tr>\n",
       "      <th>3</th>\n",
       "      <td>Acer</td>\n",
       "      <td>Thin and Light Laptop</td>\n",
       "      <td>Steel Gray</td>\n",
       "      <td>No</td>\n",
       "      <td>8</td>\n",
       "      <td>LPDDR5</td>\n",
       "      <td>Yes</td>\n",
       "      <td>512 GB</td>\n",
       "      <td>0</td>\n",
       "      <td>AMD</td>\n",
       "      <td>...</td>\n",
       "      <td>Windows 11 Home</td>\n",
       "      <td>No</td>\n",
       "      <td>39.62 cm (15.6 Inch)</td>\n",
       "      <td>1920 x 1080 Pixel</td>\n",
       "      <td>60</td>\n",
       "      <td>v5.1</td>\n",
       "      <td>1.78 Kg</td>\n",
       "      <td>No</td>\n",
       "      <td>1 Year International Travelers Warranty</td>\n",
       "      <td>29990</td>\n",
       "    </tr>\n",
       "    <tr>\n",
       "      <th>4</th>\n",
       "      <td>HP</td>\n",
       "      <td>Thin and Light Laptop</td>\n",
       "      <td>Natural Silver</td>\n",
       "      <td>Yes</td>\n",
       "      <td>8</td>\n",
       "      <td>DDR4</td>\n",
       "      <td>Yes</td>\n",
       "      <td>512 GB</td>\n",
       "      <td>0</td>\n",
       "      <td>AMD</td>\n",
       "      <td>...</td>\n",
       "      <td>Windows 11 Home</td>\n",
       "      <td>No</td>\n",
       "      <td>39.62 cm (15.6 inch)</td>\n",
       "      <td>1920 x 1080 Pixel</td>\n",
       "      <td>60</td>\n",
       "      <td>v4.2</td>\n",
       "      <td>1.69 Kg</td>\n",
       "      <td>No</td>\n",
       "      <td>1 Year Onsite Warranty</td>\n",
       "      <td>32990</td>\n",
       "    </tr>\n",
       "  </tbody>\n",
       "</table>\n",
       "<p>5 rows × 26 columns</p>\n",
       "</div>"
      ],
      "text/plain": [
       "  brand                   type          colour msoffice  RAM RAMtype  SSD  \\\n",
       "0   MSI          Gaming Laptop           Black       No    8    DDR5  Yes   \n",
       "1   AXL  Thin and Light Laptop      Space Grey       No    4    DDR4  Yes   \n",
       "2    HP  Thin and Light Laptop  Natural Silver      Yes    8    DDR4  Yes   \n",
       "3  Acer  Thin and Light Laptop      Steel Gray       No    8  LPDDR5  Yes   \n",
       "4    HP  Thin and Light Laptop  Natural Silver      Yes    8    DDR4  Yes   \n",
       "\n",
       "   SSDCap HDDCap ProcessorBrand  ...               OS Touchscreen  \\\n",
       "0  512 GB      0            AMD  ...  Windows 11 Home          No   \n",
       "1  256 GB      0          Intel  ...  Windows 11 Home          No   \n",
       "2  512 GB      0          Intel  ...  Windows 11 Home          No   \n",
       "3  512 GB      0            AMD  ...  Windows 11 Home          No   \n",
       "4  512 GB      0            AMD  ...  Windows 11 Home          No   \n",
       "\n",
       "             Screensize          Screenreso refreshrate Bluetooth   Weight  \\\n",
       "0  39.62 cm (15.6 inch)   1920 X 1080 Pixel      144 Hz      v5.3  2.35 Kg   \n",
       "1  39.62 cm (15.6 inch)     1920*1080 pixel          60       yes      NaN   \n",
       "2  39.62 cm (15.6 Inch)  1920 x 1080 Pixels          60      v5.0  1.69 kg   \n",
       "3  39.62 cm (15.6 Inch)   1920 x 1080 Pixel          60      v5.1  1.78 Kg   \n",
       "4  39.62 cm (15.6 inch)   1920 x 1080 Pixel          60      v4.2  1.69 Kg   \n",
       "\n",
       "  BacklitKB                                 warranty  price  \n",
       "0       Yes                 1 Year Carry-in Warranty  45990  \n",
       "1        No                                   1 Year  16970  \n",
       "2       Yes                   1 Year Onsite Warranty  36990  \n",
       "3        No  1 Year International Travelers Warranty  29990  \n",
       "4        No                   1 Year Onsite Warranty  32990  \n",
       "\n",
       "[5 rows x 26 columns]"
      ]
     },
     "execution_count": 14,
     "metadata": {},
     "output_type": "execute_result"
    }
   ],
   "source": [
    "df.head(5)"
   ]
  },
  {
   "cell_type": "markdown",
   "metadata": {},
   "source": [
    "### Analysing RAMtype column"
   ]
  },
  {
   "cell_type": "code",
   "execution_count": 16,
   "metadata": {},
   "outputs": [
    {
     "data": {
      "image/png": "[encoded data removed]",
      "text/plain": [
       "<Figure size 800x500 with 1 Axes>"
      ]
     },
     "metadata": {},
     "output_type": "display_data"
    }
   ],
   "source": [
    "plt.figure(figsize=(8, 5))\n",
    "df['RAMtype'].value_counts().plot(kind='bar', color='red')\n",
    "plt.title('RAM Type Distribution')\n",
    "plt.xlabel('RAM Type')\n",
    "plt.ylabel('Count')\n",
    "plt.show()"
   ]
  },
  {
   "cell_type": "code",
   "execution_count": 21,
   "metadata": {},
   "outputs": [
    {
     "data": {
      "text/plain": [
       "array(['AMD Radeon RX6550M', 'Intel Integrated', 'Intel Integrated UHD',\n",
       "       'AMD Radeon AMD', 'AMD Radeon Vega 8 Graphics',\n",
       "       'Intel Integrated Intel UHD Graphics',\n",
       "       'Intel Integrated UHD Graphics', 'AMD Radeon 610M Graphics',\n",
       "       'Intel Integrated Iris Xe', 'AMD Radeon AMD Radeon™ Graphics',\n",
       "       'NVIDIA GeForce RTX 3050', 'NVIDIA GeForce GTX 1650',\n",
       "       'Intel Integrated Integrated', 'NVIDIA GeForce RTX 2050',\n",
       "       'Intel Integrated Iris Xe Graphics', 'AMD Radeon Radeon Graphics',\n",
       "       nan, 'AMD Radeon 610M', 'AMD Radeon RX 6500M',\n",
       "       'MediaTek Integrated ARM Mali-G52 2EE MC2', 'NA Radeon Graphics',\n",
       "       'Intel Integrated Iris Plus', 'NVIDIA GeForce RTX 4050',\n",
       "       'Intel Integrated Intel Iris Xe Graphics',\n",
       "       'AMD Radeon AMD Radeon™ Vega 7 Graphics',\n",
       "       'AMD Radeon AMD Radeon 610M Graphics', 'NVIDIA GeForce RTX 3060',\n",
       "       'NVIDIA GeForce MX550', 'Intel Integrated 96EU Iris Xe',\n",
       "       'NVIDIA GeForce MX450', 'NVIDIA GeForce GTX 1650 Max Q',\n",
       "       'Intel Integrated UHD 600', 'NVIDIA GeForce RTX 4060',\n",
       "       'NVIDIA GeForce RTX 3070 Ti', 'Intel Integrated INTEL UHD',\n",
       "       'Intel Integrated UHD Graphics 600',\n",
       "       'AMD Radeon AMD Radeon Vega 7', 'Intel Integrated Arc',\n",
       "       'Intel Integrated INTEL',\n",
       "       'Intel Integrated Intel Integrated UHD Graphics', 'AMD Radeon',\n",
       "       'Intel Integrated intel hd',\n",
       "       'NVIDIA GeForce RTX NVIDIA® RTX™ 3050 Laptop GPU / 4GB GDDR6',\n",
       "       'MediaTek Integrated Integrated',\n",
       "       'NVIDIA GeForce NVIDIA GeForce MX550 2GB DDR6',\n",
       "       'Intel Integrated Intel', 'AMD Radeon AMD Radeon Series',\n",
       "       'Intel Integrated Intel Iris Xe', 'MediaTek Integrated Iris Xe',\n",
       "       'AMD Radeon AMD RADEON', 'Intel Integrated UHD620',\n",
       "       'Intel Integrated Integrated Intel® UHD Graphics',\n",
       "       'NVIDIA GeForce RTX RTX 3050', 'NVIDIA GeForce RTX 3070',\n",
       "       'NVIDIA GeForce RTX NVIDIA GeForce® RTX™ 2050',\n",
       "       'NVIDIA GeForce RTX RTX 3050 4GB Graphics Card',\n",
       "       'AMD Radeon Radeon', 'AMD Radeon Integrated AMD Radeon Graphics',\n",
       "       'AMD Radeon UHD',\n",
       "       'NVIDIA GeForce RTX 4GB NVIDIA GeForce RTX 3050 Ti',\n",
       "       'NVIDIA GeForce GTX 1650 Ti', 'NVIDIA GeForce RTX RTX3060-6GB',\n",
       "       'Intel Integrated Intel® UHD Graphics',\n",
       "       'NVIDIA GeForce GTX GTX-1650', 'Intel Integrated Iris Xe Max',\n",
       "       'NVIDIA GeForce RTX 4070', 'AMD Radeon 530',\n",
       "       'NVIDIA GeForce RTX 3080Ti', 'AMD Radeon RX Vega 10',\n",
       "       'NVIDIA GeForce RTX RTX3050Ti- 4GB', 'NVIDIA GeForce MX150',\n",
       "       'Intel Integrated INTEGRATED INTEL IRIS XE GRAPHICS',\n",
       "       'Intel Integrated Intel® Iris Xe Graphics',\n",
       "       'Intel Integrated Intel® Iris® X? Graphics',\n",
       "       'AMD Radeon AMD Radeon Graphics',\n",
       "       'NVIDIA GeForce RTX GeForce RTX 3050 Ti',\n",
       "       'NVIDIA GeForce RTX NVIDIA® RTX™ 2050 GPU',\n",
       "       'AMD Radeon Athlon 3000G', 'NVIDIA GeForce RTX RTX 2050',\n",
       "       'NA Integerated Graphics', 'Intel Integrated ARC A530M',\n",
       "       'NA Intel Iris Xe Graphics', 'Intel Integrated intel',\n",
       "       'NVIDIA GeForce RTX 3080', 'AMD Radeon AMD Radeon RX 6500M',\n",
       "       'Intel Integrated Intel Integrated Iris Xe',\n",
       "       'NA Integrated Intel® Iris® Xe Graphics',\n",
       "       'Intel Integrated VivoBook 15', 'AMD Radeon R7',\n",
       "       'Intel Integrated UHD 620',\n",
       "       'NVIDIA GeForce RTX RTX 3050 Ti 4GB Graphics',\n",
       "       'Intel Integrated HD 500', 'AMD Radeon RX 6800M',\n",
       "       'NVIDIA GeForce RTX 1650', 'Intel Integrated Intel Hd',\n",
       "       'NVIDIA GeForce MX330', 'NA Intel HD',\n",
       "       'NVIDIA GeForce RTX 3050 Ti', 'Intel Integrated Intel HD',\n",
       "       'AMD Radeon RX 6650M', 'Intel Integrated 15s-fq2627TU',\n",
       "       'NVIDIA GeForce RTX 3080 Ti', 'Intel Integrated Intel Integrated',\n",
       "       'Intel Integrated UHD 605', 'NVIDIA GeForce RTX 3050Ti',\n",
       "       'NVIDIA GeForce GTX NVIDIA® GeForce® GTX 1650',\n",
       "       'NA Intel UHD Graphics',\n",
       "       'NVIDIA GeForce GTX NVIDIA GeForce GTX 1650',\n",
       "       'Intel Integrated Iris Plus 655', 'Intel Integrated HD',\n",
       "       'MediaTek Integrated', 'NVIDIA GeForce RTX NVIDIA® RTX™ 3050 GPU',\n",
       "       'NVIDIA GeForce RTX NVIDIA GeForce RTX 2050',\n",
       "       'NVIDIA GeForce RTX 4080', 'AMD Radeon Radeon™ Vega Graphics',\n",
       "       'Intel Integrated Iris XE',\n",
       "       'AMD Radeon Integrated AMD Radeon™ Graphics'], dtype=object)"
      ]
     },
     "execution_count": 21,
     "metadata": {},
     "output_type": "execute_result"
    }
   ],
   "source": [
    "df['GPU'].unique()"
   ]
  }
 ],
 "metadata": {
  "kernelspec": {
   "display_name": "Python 3",
   "language": "python",
   "name": "python3"
  },
  "language_info": {
   "codemirror_mode": {
    "name": "ipython",
    "version": 3
   },
   "file_extension": ".py",
   "mimetype": "text/x-python",
   "name": "python",
   "nbconvert_exporter": "python",
   "pygments_lexer": "ipython3",
   "version": "3.12.2"
  }
 },
 "nbformat": 4,
 "nbformat_minor": 2
}
