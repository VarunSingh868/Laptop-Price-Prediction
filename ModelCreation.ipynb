{
 "cells": [
  {
   "cell_type": "code",
   "execution_count": 1,
   "metadata": {},
   "outputs": [],
   "source": [
    "import pandas as pd\n",
    "import numpy as np\n",
    "import matplotlib.pyplot as plt\n",
    "import seaborn as sns"
   ]
  },
  {
   "cell_type": "code",
   "execution_count": 2,
   "metadata": {},
   "outputs": [
    {
     "data": {
      "text/html": [
       "<div>\n",
       "<style scoped>\n",
       "    .dataframe tbody tr th:only-of-type {\n",
       "        vertical-align: middle;\n",
       "    }\n",
       "\n",
       "    .dataframe tbody tr th {\n",
       "        vertical-align: top;\n",
       "    }\n",
       "\n",
       "    .dataframe thead th {\n",
       "        text-align: right;\n",
       "    }\n",
       "</style>\n",
       "<table border=\"1\" class=\"dataframe\">\n",
       "  <thead>\n",
       "    <tr style=\"text-align: right;\">\n",
       "      <th></th>\n",
       "      <th>brand</th>\n",
       "      <th>price</th>\n",
       "      <th>type</th>\n",
       "      <th>colour</th>\n",
       "      <th>msoffice</th>\n",
       "      <th>RAM</th>\n",
       "      <th>RAMtype</th>\n",
       "      <th>SSD</th>\n",
       "      <th>SSDCap</th>\n",
       "      <th>HDDCap</th>\n",
       "      <th>...</th>\n",
       "      <th>GPUramcap</th>\n",
       "      <th>OS</th>\n",
       "      <th>Touchscreen</th>\n",
       "      <th>Screensize</th>\n",
       "      <th>Screenreso</th>\n",
       "      <th>refreshrate</th>\n",
       "      <th>Bluetooth</th>\n",
       "      <th>Weight</th>\n",
       "      <th>BacklitKB</th>\n",
       "      <th>warranty</th>\n",
       "    </tr>\n",
       "  </thead>\n",
       "  <tbody>\n",
       "    <tr>\n",
       "      <th>0</th>\n",
       "      <td>MSI</td>\n",
       "      <td>₹45,990</td>\n",
       "      <td>Gaming Laptop</td>\n",
       "      <td>Black</td>\n",
       "      <td>No</td>\n",
       "      <td>8 GB</td>\n",
       "      <td>DDR5</td>\n",
       "      <td>Yes</td>\n",
       "      <td>512 GB</td>\n",
       "      <td>0</td>\n",
       "      <td>...</td>\n",
       "      <td>4 GB</td>\n",
       "      <td>Windows 11 Home</td>\n",
       "      <td>No</td>\n",
       "      <td>39.62 cm (15.6 inch)</td>\n",
       "      <td>1920 X 1080 Pixel</td>\n",
       "      <td>144 Hz</td>\n",
       "      <td>v5.3</td>\n",
       "      <td>2.35 Kg</td>\n",
       "      <td>Yes</td>\n",
       "      <td>1 Year Carry-in Warranty</td>\n",
       "    </tr>\n",
       "    <tr>\n",
       "      <th>1</th>\n",
       "      <td>AXL</td>\n",
       "      <td>₹16,970</td>\n",
       "      <td>Thin and Light Laptop</td>\n",
       "      <td>Space Grey</td>\n",
       "      <td>No</td>\n",
       "      <td>4 GB</td>\n",
       "      <td>DDR4</td>\n",
       "      <td>Yes</td>\n",
       "      <td>256 GB</td>\n",
       "      <td>0</td>\n",
       "      <td>...</td>\n",
       "      <td>2 GB</td>\n",
       "      <td>Windows 11 Home</td>\n",
       "      <td>No</td>\n",
       "      <td>39.62 cm (15.6 inch)</td>\n",
       "      <td>1920*1080 pixel</td>\n",
       "      <td>60</td>\n",
       "      <td>yes</td>\n",
       "      <td>NaN</td>\n",
       "      <td>No</td>\n",
       "      <td>1 Year</td>\n",
       "    </tr>\n",
       "    <tr>\n",
       "      <th>2</th>\n",
       "      <td>HP</td>\n",
       "      <td>₹36,990</td>\n",
       "      <td>Thin and Light Laptop</td>\n",
       "      <td>Natural Silver</td>\n",
       "      <td>Yes</td>\n",
       "      <td>8 GB</td>\n",
       "      <td>DDR4</td>\n",
       "      <td>Yes</td>\n",
       "      <td>512 GB</td>\n",
       "      <td>0</td>\n",
       "      <td>...</td>\n",
       "      <td>2 GB</td>\n",
       "      <td>Windows 11 Home</td>\n",
       "      <td>No</td>\n",
       "      <td>39.62 cm (15.6 Inch)</td>\n",
       "      <td>1920 x 1080 Pixels</td>\n",
       "      <td>60</td>\n",
       "      <td>v5.0</td>\n",
       "      <td>1.69 kg</td>\n",
       "      <td>Yes</td>\n",
       "      <td>1 Year Onsite Warranty</td>\n",
       "    </tr>\n",
       "    <tr>\n",
       "      <th>3</th>\n",
       "      <td>Acer</td>\n",
       "      <td>₹29,990</td>\n",
       "      <td>Thin and Light Laptop</td>\n",
       "      <td>Steel Gray</td>\n",
       "      <td>No</td>\n",
       "      <td>8 GB</td>\n",
       "      <td>LPDDR5</td>\n",
       "      <td>Yes</td>\n",
       "      <td>512 GB</td>\n",
       "      <td>0</td>\n",
       "      <td>...</td>\n",
       "      <td>2 GB</td>\n",
       "      <td>Windows 11 Home</td>\n",
       "      <td>No</td>\n",
       "      <td>39.62 cm (15.6 Inch)</td>\n",
       "      <td>1920 x 1080 Pixel</td>\n",
       "      <td>60</td>\n",
       "      <td>v5.1</td>\n",
       "      <td>1.78 Kg</td>\n",
       "      <td>No</td>\n",
       "      <td>1 Year International Travelers Warranty</td>\n",
       "    </tr>\n",
       "    <tr>\n",
       "      <th>4</th>\n",
       "      <td>HP</td>\n",
       "      <td>₹32,990</td>\n",
       "      <td>Thin and Light Laptop</td>\n",
       "      <td>Natural Silver</td>\n",
       "      <td>Yes</td>\n",
       "      <td>8 GB</td>\n",
       "      <td>DDR4</td>\n",
       "      <td>Yes</td>\n",
       "      <td>512 GB</td>\n",
       "      <td>0</td>\n",
       "      <td>...</td>\n",
       "      <td>2 GB</td>\n",
       "      <td>Windows 11 Home</td>\n",
       "      <td>No</td>\n",
       "      <td>39.62 cm (15.6 inch)</td>\n",
       "      <td>1920 x 1080 Pixel</td>\n",
       "      <td>60</td>\n",
       "      <td>v4.2</td>\n",
       "      <td>1.69 Kg</td>\n",
       "      <td>No</td>\n",
       "      <td>1 Year Onsite Warranty</td>\n",
       "    </tr>\n",
       "  </tbody>\n",
       "</table>\n",
       "<p>5 rows × 26 columns</p>\n",
       "</div>"
      ],
      "text/plain": [
       "  brand    price                   type          colour msoffice   RAM  \\\n",
       "0   MSI  ₹45,990          Gaming Laptop           Black       No  8 GB   \n",
       "1   AXL  ₹16,970  Thin and Light Laptop      Space Grey       No  4 GB   \n",
       "2    HP  ₹36,990  Thin and Light Laptop  Natural Silver      Yes  8 GB   \n",
       "3  Acer  ₹29,990  Thin and Light Laptop      Steel Gray       No  8 GB   \n",
       "4    HP  ₹32,990  Thin and Light Laptop  Natural Silver      Yes  8 GB   \n",
       "\n",
       "  RAMtype  SSD  SSDCap HDDCap  ... GPUramcap               OS Touchscreen  \\\n",
       "0    DDR5  Yes  512 GB      0  ...      4 GB  Windows 11 Home          No   \n",
       "1    DDR4  Yes  256 GB      0  ...      2 GB  Windows 11 Home          No   \n",
       "2    DDR4  Yes  512 GB      0  ...      2 GB  Windows 11 Home          No   \n",
       "3  LPDDR5  Yes  512 GB      0  ...      2 GB  Windows 11 Home          No   \n",
       "4    DDR4  Yes  512 GB      0  ...      2 GB  Windows 11 Home          No   \n",
       "\n",
       "             Screensize          Screenreso refreshrate Bluetooth   Weight  \\\n",
       "0  39.62 cm (15.6 inch)   1920 X 1080 Pixel      144 Hz      v5.3  2.35 Kg   \n",
       "1  39.62 cm (15.6 inch)     1920*1080 pixel          60       yes      NaN   \n",
       "2  39.62 cm (15.6 Inch)  1920 x 1080 Pixels          60      v5.0  1.69 kg   \n",
       "3  39.62 cm (15.6 Inch)   1920 x 1080 Pixel          60      v5.1  1.78 Kg   \n",
       "4  39.62 cm (15.6 inch)   1920 x 1080 Pixel          60      v4.2  1.69 Kg   \n",
       "\n",
       "  BacklitKB                                 warranty  \n",
       "0       Yes                 1 Year Carry-in Warranty  \n",
       "1        No                                   1 Year  \n",
       "2       Yes                   1 Year Onsite Warranty  \n",
       "3        No  1 Year International Travelers Warranty  \n",
       "4        No                   1 Year Onsite Warranty  \n",
       "\n",
       "[5 rows x 26 columns]"
      ]
     },
     "execution_count": 2,
     "metadata": {},
     "output_type": "execute_result"
    }
   ],
   "source": [
    "df = pd.read_csv('laptop_data.csv')\n",
    "df.head(5)"
   ]
  },
  {
   "cell_type": "code",
   "execution_count": 3,
   "metadata": {},
   "outputs": [
    {
     "name": "stdout",
     "output_type": "stream",
     "text": [
      "<class 'pandas.core.frame.DataFrame'>\n",
      "RangeIndex: 1916 entries, 0 to 1915\n",
      "Data columns (total 26 columns):\n",
      " #   Column            Non-Null Count  Dtype \n",
      "---  ------            --------------  ----- \n",
      " 0   brand             1916 non-null   object\n",
      " 1   price             1916 non-null   object\n",
      " 2   type              1916 non-null   object\n",
      " 3   colour            1916 non-null   object\n",
      " 4   msoffice          1916 non-null   object\n",
      " 5   RAM               1916 non-null   object\n",
      " 6   RAMtype           1916 non-null   object\n",
      " 7   SSD               1916 non-null   object\n",
      " 8   SSDCap            1916 non-null   object\n",
      " 9   HDDCap            1916 non-null   object\n",
      " 10  ProcessorBrand    1916 non-null   object\n",
      " 11  ProcessorName     1916 non-null   object\n",
      " 12  ProcessorVariant  1715 non-null   object\n",
      " 13  ClockSpeed        1675 non-null   object\n",
      " 14  GPU               1866 non-null   object\n",
      " 15  GPUramtype        1916 non-null   object\n",
      " 16  GPUramcap         1916 non-null   object\n",
      " 17  OS                1916 non-null   object\n",
      " 18  Touchscreen       1916 non-null   object\n",
      " 19  Screensize        1916 non-null   object\n",
      " 20  Screenreso        1916 non-null   object\n",
      " 21  refreshrate       1916 non-null   object\n",
      " 22  Bluetooth         1916 non-null   object\n",
      " 23  Weight            1716 non-null   object\n",
      " 24  BacklitKB         1810 non-null   object\n",
      " 25  warranty          1916 non-null   object\n",
      "dtypes: object(26)\n",
      "memory usage: 389.3+ KB\n"
     ]
    }
   ],
   "source": [
    "df.info()"
   ]
  },
  {
   "cell_type": "code",
   "execution_count": 4,
   "metadata": {},
   "outputs": [],
   "source": [
    "df = df.drop('SSD',axis=1)"
   ]
  },
  {
   "cell_type": "code",
   "execution_count": 5,
   "metadata": {},
   "outputs": [
    {
     "name": "stdout",
     "output_type": "stream",
     "text": [
      "<class 'pandas.core.frame.DataFrame'>\n",
      "RangeIndex: 1916 entries, 0 to 1915\n",
      "Data columns (total 25 columns):\n",
      " #   Column            Non-Null Count  Dtype \n",
      "---  ------            --------------  ----- \n",
      " 0   brand             1916 non-null   object\n",
      " 1   price             1916 non-null   object\n",
      " 2   type              1916 non-null   object\n",
      " 3   colour            1916 non-null   object\n",
      " 4   msoffice          1916 non-null   object\n",
      " 5   RAM               1916 non-null   object\n",
      " 6   RAMtype           1916 non-null   object\n",
      " 7   SSDCap            1916 non-null   object\n",
      " 8   HDDCap            1916 non-null   object\n",
      " 9   ProcessorBrand    1916 non-null   object\n",
      " 10  ProcessorName     1916 non-null   object\n",
      " 11  ProcessorVariant  1715 non-null   object\n",
      " 12  ClockSpeed        1675 non-null   object\n",
      " 13  GPU               1866 non-null   object\n",
      " 14  GPUramtype        1916 non-null   object\n",
      " 15  GPUramcap         1916 non-null   object\n",
      " 16  OS                1916 non-null   object\n",
      " 17  Touchscreen       1916 non-null   object\n",
      " 18  Screensize        1916 non-null   object\n",
      " 19  Screenreso        1916 non-null   object\n",
      " 20  refreshrate       1916 non-null   object\n",
      " 21  Bluetooth         1916 non-null   object\n",
      " 22  Weight            1716 non-null   object\n",
      " 23  BacklitKB         1810 non-null   object\n",
      " 24  warranty          1916 non-null   object\n",
      "dtypes: object(25)\n",
      "memory usage: 374.3+ KB\n"
     ]
    }
   ],
   "source": [
    "df.info()"
   ]
  },
  {
   "cell_type": "code",
   "execution_count": 6,
   "metadata": {},
   "outputs": [],
   "source": [
    "df.duplicated().sum()\n",
    "df.drop_duplicates(inplace=True)"
   ]
  },
  {
   "cell_type": "code",
   "execution_count": 7,
   "metadata": {},
   "outputs": [
    {
     "data": {
      "text/plain": [
       "brand                 0\n",
       "price                 0\n",
       "type                  0\n",
       "colour                0\n",
       "msoffice              0\n",
       "RAM                   0\n",
       "RAMtype               0\n",
       "SSDCap                0\n",
       "HDDCap                0\n",
       "ProcessorBrand        0\n",
       "ProcessorName         0\n",
       "ProcessorVariant    155\n",
       "ClockSpeed          191\n",
       "GPU                  47\n",
       "GPUramtype            0\n",
       "GPUramcap             0\n",
       "OS                    0\n",
       "Touchscreen           0\n",
       "Screensize            0\n",
       "Screenreso            0\n",
       "refreshrate           0\n",
       "Bluetooth             0\n",
       "Weight              152\n",
       "BacklitKB            99\n",
       "warranty              0\n",
       "dtype: int64"
      ]
     },
     "execution_count": 7,
     "metadata": {},
     "output_type": "execute_result"
    }
   ],
   "source": [
    "df.isnull().sum()"
   ]
  },
  {
   "cell_type": "code",
   "execution_count": 8,
   "metadata": {},
   "outputs": [],
   "source": [
    "df['price'] = df.pop('price')"
   ]
  },
  {
   "cell_type": "markdown",
   "metadata": {},
   "source": [
    "### Converting price column to numeric"
   ]
  },
  {
   "cell_type": "code",
   "execution_count": 9,
   "metadata": {},
   "outputs": [],
   "source": [
    "df['price'] = df['price'].str.replace('₹', '').str.replace(',', '').astype(float)"
   ]
  },
  {
   "cell_type": "code",
   "execution_count": 10,
   "metadata": {},
   "outputs": [
    {
     "data": {
      "text/plain": [
       "0        45990.0\n",
       "1        16970.0\n",
       "2        36990.0\n",
       "3        29990.0\n",
       "4        32990.0\n",
       "          ...   \n",
       "1899     46800.0\n",
       "1905     27990.0\n",
       "1908     33900.0\n",
       "1909     62990.0\n",
       "1910    116000.0\n",
       "Name: price, Length: 1532, dtype: float64"
      ]
     },
     "execution_count": 10,
     "metadata": {},
     "output_type": "execute_result"
    }
   ],
   "source": [
    "df['price']"
   ]
  },
  {
   "cell_type": "markdown",
   "metadata": {},
   "source": [
    "### Analysing Touchscreen, Backlit Keyboard and MS Office"
   ]
  },
  {
   "cell_type": "code",
   "execution_count": 11,
   "metadata": {},
   "outputs": [
    {
     "data": {
      "text/plain": [
       "Touchscreen\n",
       "No     1420\n",
       "Yes     112\n",
       "Name: count, dtype: int64"
      ]
     },
     "execution_count": 11,
     "metadata": {},
     "output_type": "execute_result"
    }
   ],
   "source": [
    "df['Touchscreen'].value_counts()"
   ]
  },
  {
   "cell_type": "code",
   "execution_count": 12,
   "metadata": {},
   "outputs": [],
   "source": [
    "df['Touchscreen'] = df['Touchscreen'].apply(lambda x: 1 if x == 'Yes' else 0 )"
   ]
  },
  {
   "cell_type": "code",
   "execution_count": 13,
   "metadata": {},
   "outputs": [
    {
     "data": {
      "text/plain": [
       "Touchscreen\n",
       "0    1420\n",
       "1     112\n",
       "Name: count, dtype: int64"
      ]
     },
     "execution_count": 13,
     "metadata": {},
     "output_type": "execute_result"
    }
   ],
   "source": [
    "df['Touchscreen'].value_counts()"
   ]
  },
  {
   "cell_type": "code",
   "execution_count": 14,
   "metadata": {},
   "outputs": [
    {
     "data": {
      "text/plain": [
       "msoffice\n",
       "Yes    902\n",
       "No     630\n",
       "Name: count, dtype: int64"
      ]
     },
     "execution_count": 14,
     "metadata": {},
     "output_type": "execute_result"
    }
   ],
   "source": [
    "df['msoffice'].value_counts()"
   ]
  },
  {
   "cell_type": "code",
   "execution_count": 15,
   "metadata": {},
   "outputs": [],
   "source": [
    "df['msoffice'] = df['msoffice'].apply(lambda x: 1 if x == 'Yes' else 0 )"
   ]
  },
  {
   "cell_type": "code",
   "execution_count": 16,
   "metadata": {},
   "outputs": [
    {
     "data": {
      "text/plain": [
       "msoffice\n",
       "1    902\n",
       "0    630\n",
       "Name: count, dtype: int64"
      ]
     },
     "execution_count": 16,
     "metadata": {},
     "output_type": "execute_result"
    }
   ],
   "source": [
    "df['msoffice'].value_counts()"
   ]
  },
  {
   "cell_type": "code",
   "execution_count": 17,
   "metadata": {},
   "outputs": [
    {
     "name": "stdout",
     "output_type": "stream",
     "text": [
      "BacklitKB\n",
      "No     744\n",
      "Yes    689\n",
      "Name: count, dtype: int64\n",
      "99\n"
     ]
    }
   ],
   "source": [
    "print(df['BacklitKB'].value_counts())\n",
    "print(df['BacklitKB'].isnull().sum())"
   ]
  },
  {
   "cell_type": "code",
   "execution_count": 18,
   "metadata": {},
   "outputs": [
    {
     "data": {
      "text/plain": [
       "BacklitKB\n",
       "No     843\n",
       "Yes    689\n",
       "Name: count, dtype: int64"
      ]
     },
     "execution_count": 18,
     "metadata": {},
     "output_type": "execute_result"
    }
   ],
   "source": [
    "df['BacklitKB'] = df['BacklitKB'].fillna('No')\n",
    "df['BacklitKB'].value_counts()"
   ]
  },
  {
   "cell_type": "code",
   "execution_count": 19,
   "metadata": {},
   "outputs": [],
   "source": [
    "df['BacklitKB'] = df['BacklitKB'].apply(lambda x: 1 if x == 'Yes' else 0 )"
   ]
  },
  {
   "cell_type": "code",
   "execution_count": 20,
   "metadata": {},
   "outputs": [
    {
     "data": {
      "text/plain": [
       "BacklitKB\n",
       "0    843\n",
       "1    689\n",
       "Name: count, dtype: int64"
      ]
     },
     "execution_count": 20,
     "metadata": {},
     "output_type": "execute_result"
    }
   ],
   "source": [
    "df['BacklitKB'].value_counts()"
   ]
  },
  {
   "cell_type": "markdown",
   "metadata": {},
   "source": [
    "### Calculating PPI"
   ]
  },
  {
   "cell_type": "code",
   "execution_count": 21,
   "metadata": {},
   "outputs": [
    {
     "data": {
      "text/html": [
       "<div>\n",
       "<style scoped>\n",
       "    .dataframe tbody tr th:only-of-type {\n",
       "        vertical-align: middle;\n",
       "    }\n",
       "\n",
       "    .dataframe tbody tr th {\n",
       "        vertical-align: top;\n",
       "    }\n",
       "\n",
       "    .dataframe thead th {\n",
       "        text-align: right;\n",
       "    }\n",
       "</style>\n",
       "<table border=\"1\" class=\"dataframe\">\n",
       "  <thead>\n",
       "    <tr style=\"text-align: right;\">\n",
       "      <th></th>\n",
       "      <th>brand</th>\n",
       "      <th>type</th>\n",
       "      <th>colour</th>\n",
       "      <th>msoffice</th>\n",
       "      <th>RAM</th>\n",
       "      <th>RAMtype</th>\n",
       "      <th>SSDCap</th>\n",
       "      <th>HDDCap</th>\n",
       "      <th>ProcessorBrand</th>\n",
       "      <th>ProcessorName</th>\n",
       "      <th>...</th>\n",
       "      <th>OS</th>\n",
       "      <th>Touchscreen</th>\n",
       "      <th>Screensize</th>\n",
       "      <th>Screenreso</th>\n",
       "      <th>refreshrate</th>\n",
       "      <th>Bluetooth</th>\n",
       "      <th>Weight</th>\n",
       "      <th>BacklitKB</th>\n",
       "      <th>warranty</th>\n",
       "      <th>price</th>\n",
       "    </tr>\n",
       "  </thead>\n",
       "  <tbody>\n",
       "    <tr>\n",
       "      <th>0</th>\n",
       "      <td>MSI</td>\n",
       "      <td>Gaming Laptop</td>\n",
       "      <td>Black</td>\n",
       "      <td>0</td>\n",
       "      <td>8 GB</td>\n",
       "      <td>DDR5</td>\n",
       "      <td>512 GB</td>\n",
       "      <td>0</td>\n",
       "      <td>AMD</td>\n",
       "      <td>Ryzen 5 Hexa Core</td>\n",
       "      <td>...</td>\n",
       "      <td>Windows 11 Home</td>\n",
       "      <td>0</td>\n",
       "      <td>39.62 cm (15.6 inch)</td>\n",
       "      <td>1920 X 1080 Pixel</td>\n",
       "      <td>144 Hz</td>\n",
       "      <td>v5.3</td>\n",
       "      <td>2.35 Kg</td>\n",
       "      <td>1</td>\n",
       "      <td>1 Year Carry-in Warranty</td>\n",
       "      <td>45990.0</td>\n",
       "    </tr>\n",
       "    <tr>\n",
       "      <th>1</th>\n",
       "      <td>AXL</td>\n",
       "      <td>Thin and Light Laptop</td>\n",
       "      <td>Space Grey</td>\n",
       "      <td>0</td>\n",
       "      <td>4 GB</td>\n",
       "      <td>DDR4</td>\n",
       "      <td>256 GB</td>\n",
       "      <td>0</td>\n",
       "      <td>Intel</td>\n",
       "      <td>Celeron Dual Core</td>\n",
       "      <td>...</td>\n",
       "      <td>Windows 11 Home</td>\n",
       "      <td>0</td>\n",
       "      <td>39.62 cm (15.6 inch)</td>\n",
       "      <td>1920*1080 pixel</td>\n",
       "      <td>60</td>\n",
       "      <td>yes</td>\n",
       "      <td>NaN</td>\n",
       "      <td>0</td>\n",
       "      <td>1 Year</td>\n",
       "      <td>16970.0</td>\n",
       "    </tr>\n",
       "    <tr>\n",
       "      <th>2</th>\n",
       "      <td>HP</td>\n",
       "      <td>Thin and Light Laptop</td>\n",
       "      <td>Natural Silver</td>\n",
       "      <td>1</td>\n",
       "      <td>8 GB</td>\n",
       "      <td>DDR4</td>\n",
       "      <td>512 GB</td>\n",
       "      <td>0</td>\n",
       "      <td>Intel</td>\n",
       "      <td>Core i3</td>\n",
       "      <td>...</td>\n",
       "      <td>Windows 11 Home</td>\n",
       "      <td>0</td>\n",
       "      <td>39.62 cm (15.6 Inch)</td>\n",
       "      <td>1920 x 1080 Pixels</td>\n",
       "      <td>60</td>\n",
       "      <td>v5.0</td>\n",
       "      <td>1.69 kg</td>\n",
       "      <td>1</td>\n",
       "      <td>1 Year Onsite Warranty</td>\n",
       "      <td>36990.0</td>\n",
       "    </tr>\n",
       "    <tr>\n",
       "      <th>3</th>\n",
       "      <td>Acer</td>\n",
       "      <td>Thin and Light Laptop</td>\n",
       "      <td>Steel Gray</td>\n",
       "      <td>0</td>\n",
       "      <td>8 GB</td>\n",
       "      <td>LPDDR5</td>\n",
       "      <td>512 GB</td>\n",
       "      <td>0</td>\n",
       "      <td>AMD</td>\n",
       "      <td>Ryzen 5 Quad Core</td>\n",
       "      <td>...</td>\n",
       "      <td>Windows 11 Home</td>\n",
       "      <td>0</td>\n",
       "      <td>39.62 cm (15.6 Inch)</td>\n",
       "      <td>1920 x 1080 Pixel</td>\n",
       "      <td>60</td>\n",
       "      <td>v5.1</td>\n",
       "      <td>1.78 Kg</td>\n",
       "      <td>0</td>\n",
       "      <td>1 Year International Travelers Warranty</td>\n",
       "      <td>29990.0</td>\n",
       "    </tr>\n",
       "    <tr>\n",
       "      <th>4</th>\n",
       "      <td>HP</td>\n",
       "      <td>Thin and Light Laptop</td>\n",
       "      <td>Natural Silver</td>\n",
       "      <td>1</td>\n",
       "      <td>8 GB</td>\n",
       "      <td>DDR4</td>\n",
       "      <td>512 GB</td>\n",
       "      <td>0</td>\n",
       "      <td>AMD</td>\n",
       "      <td>Ryzen 3 Quad Core</td>\n",
       "      <td>...</td>\n",
       "      <td>Windows 11 Home</td>\n",
       "      <td>0</td>\n",
       "      <td>39.62 cm (15.6 inch)</td>\n",
       "      <td>1920 x 1080 Pixel</td>\n",
       "      <td>60</td>\n",
       "      <td>v4.2</td>\n",
       "      <td>1.69 Kg</td>\n",
       "      <td>0</td>\n",
       "      <td>1 Year Onsite Warranty</td>\n",
       "      <td>32990.0</td>\n",
       "    </tr>\n",
       "  </tbody>\n",
       "</table>\n",
       "<p>5 rows × 25 columns</p>\n",
       "</div>"
      ],
      "text/plain": [
       "  brand                   type          colour  msoffice   RAM RAMtype  \\\n",
       "0   MSI          Gaming Laptop           Black         0  8 GB    DDR5   \n",
       "1   AXL  Thin and Light Laptop      Space Grey         0  4 GB    DDR4   \n",
       "2    HP  Thin and Light Laptop  Natural Silver         1  8 GB    DDR4   \n",
       "3  Acer  Thin and Light Laptop      Steel Gray         0  8 GB  LPDDR5   \n",
       "4    HP  Thin and Light Laptop  Natural Silver         1  8 GB    DDR4   \n",
       "\n",
       "   SSDCap HDDCap ProcessorBrand      ProcessorName  ...               OS  \\\n",
       "0  512 GB      0            AMD  Ryzen 5 Hexa Core  ...  Windows 11 Home   \n",
       "1  256 GB      0          Intel  Celeron Dual Core  ...  Windows 11 Home   \n",
       "2  512 GB      0          Intel            Core i3  ...  Windows 11 Home   \n",
       "3  512 GB      0            AMD  Ryzen 5 Quad Core  ...  Windows 11 Home   \n",
       "4  512 GB      0            AMD  Ryzen 3 Quad Core  ...  Windows 11 Home   \n",
       "\n",
       "  Touchscreen            Screensize          Screenreso refreshrate Bluetooth  \\\n",
       "0           0  39.62 cm (15.6 inch)   1920 X 1080 Pixel      144 Hz      v5.3   \n",
       "1           0  39.62 cm (15.6 inch)     1920*1080 pixel          60       yes   \n",
       "2           0  39.62 cm (15.6 Inch)  1920 x 1080 Pixels          60      v5.0   \n",
       "3           0  39.62 cm (15.6 Inch)   1920 x 1080 Pixel          60      v5.1   \n",
       "4           0  39.62 cm (15.6 inch)   1920 x 1080 Pixel          60      v4.2   \n",
       "\n",
       "    Weight BacklitKB                                 warranty    price  \n",
       "0  2.35 Kg         1                 1 Year Carry-in Warranty  45990.0  \n",
       "1      NaN         0                                   1 Year  16970.0  \n",
       "2  1.69 kg         1                   1 Year Onsite Warranty  36990.0  \n",
       "3  1.78 Kg         0  1 Year International Travelers Warranty  29990.0  \n",
       "4  1.69 Kg         0                   1 Year Onsite Warranty  32990.0  \n",
       "\n",
       "[5 rows x 25 columns]"
      ]
     },
     "execution_count": 21,
     "metadata": {},
     "output_type": "execute_result"
    }
   ],
   "source": [
    "df.head(5)"
   ]
  },
  {
   "cell_type": "code",
   "execution_count": 22,
   "metadata": {},
   "outputs": [
    {
     "data": {
      "text/plain": [
       "0"
      ]
     },
     "execution_count": 22,
     "metadata": {},
     "output_type": "execute_result"
    }
   ],
   "source": [
    "df['Screenreso'].isnull().sum()"
   ]
  },
  {
   "cell_type": "code",
   "execution_count": 23,
   "metadata": {},
   "outputs": [
    {
     "data": {
      "text/plain": [
       "array(['1920 X 1080 Pixel', '1920*1080 pixel', '1920 x 1080 Pixels',\n",
       "       '1920 x 1080 Pixel', '1366 x 768 pixel pixel', '2256x1504 pixel',\n",
       "       '1920x1080 Pixels', '1366 x 768 Pixel', '1366 x 768 pixel',\n",
       "       '1920 x 1200 Pixels', '1920 X 1080 pixel', '1920x 1080 pixel',\n",
       "       '1920x1080 pixel', '2880 x 1800 Pixels', '1920 x 1080 pixel',\n",
       "       '1366 x 768$$Pixels pixel', '1920 x 1200 Pixel',\n",
       "       '1366 x 768 Pixels', '2560 x 1600 Pixel', '2880 x 1800 Pixel',\n",
       "       '1920 x 1020 Pixel', '2240 x 1400 Pixel', '2560 x 1664 Pixel',\n",
       "       '1920 x 1200 pixel', '2560 x 1440 Pixel', '720P HD camera pixel',\n",
       "       '1080*1920 pixel', '1080 * 1920 pixel', '1920 X1080 pixel',\n",
       "       '3840 x 2400 Pixel', '1920 x 1080 Pixels pixel',\n",
       "       'FHD (1920 x 1080) OLED pixel', '2160 x 1440 Pixel',\n",
       "       '1920×1080 pixel', '2880 x 1864 Pixel', '1920x 1080$$Pixels pixel',\n",
       "       '1920 x 1080$$Pixels pixel', '1,920 x 1,080 pixels pixel',\n",
       "       '1920 * 1200 pixel', '1366 X 768 pixel', '1920 × 1080 pixel',\n",
       "       '1080x1920 pixel', '2880 x 1800 pixel', 'FHD (1920 x 1080 pixel',\n",
       "       '1920 x 1080 PIxel', '1920 X 1080$$Pixels pixel',\n",
       "       '3024 x 1964 Pixels', '1366X768 pixel', '2220 X 1080 pixel',\n",
       "       '3840 x 2400 Pixels', '1024 x 768 pixel',\n",
       "       '1366 X 768$$Pixels pixel', '1080-1920 pixel', '2560 X 1440 Pixel',\n",
       "       '1920x1080$$Pixels pixel', '1920 x 1080 PIxels',\n",
       "       '2496 x 1664 Pixel', '1280X768$$Pixels pixel',\n",
       "       '3456 x 2234 Pixels', '3024 x 1964 Pixel', '1920 X 1200 Pixel',\n",
       "       '3000 x 2000 Pixel', '1366x768$$Pixels pixel', '3200 x 2000 Pixel',\n",
       "       '2560 x 1600$$Pixels pixel', '1920 * 1080 pixel',\n",
       "       '1920 x 1080$$Pixel pixel', 'FHD+ (1920 x 1200 pixel',\n",
       "       '1080 x 1920 pixel', '1920 X 1080 Pixels', '3456 x 2234 Pixel',\n",
       "       '2880 x 1620 Pixel', '1366 * 768 pixel', '2220 x 1080 Pixel',\n",
       "       '2560 x 1440 PIxel', '3840 x 2160 Pixel', '2880 x 1920 Pixel',\n",
       "       '2560 x 1600 Pixels', '2561 x 1600 Pixel', '1920x1080 Pixel',\n",
       "       '1366x768 pixel', '2880 x 1800 PIxel', '1920 x 1200$$Pixels pixel',\n",
       "       '2880 x 1800$$Pixels pixel', '3200 x 2000 Pixels',\n",
       "       '1280 * 720 Pixel', '1920x1080 Pixels pixel', '?1366 x 768 pixel',\n",
       "       '1920X1080 pixel', '1920x1200 pixel', '1,920 x 1,080 pixel',\n",
       "       '1920X1080 Pixel', '2160 x 1440 pixel'], dtype=object)"
      ]
     },
     "execution_count": 23,
     "metadata": {},
     "output_type": "execute_result"
    }
   ],
   "source": [
    "df['Screenreso'].unique()"
   ]
  },
  {
   "cell_type": "code",
   "execution_count": 24,
   "metadata": {},
   "outputs": [],
   "source": [
    "df['Screenreso'] = df['Screenreso'].replace('720P HD camera pixel', '1280 x 720 pixels')\n",
    "df['Screenreso'] = df['Screenreso'].str.replace(',','')"
   ]
  },
  {
   "cell_type": "code",
   "execution_count": 25,
   "metadata": {},
   "outputs": [],
   "source": [
    "df[['X_res', 'Y_res']] = df['Screenreso'].str.extract(r'(\\d+)\\D+(\\d+)')"
   ]
  },
  {
   "cell_type": "code",
   "execution_count": 26,
   "metadata": {},
   "outputs": [
    {
     "name": "stdout",
     "output_type": "stream",
     "text": [
      "['1920' '1366' '2256' '2880' '2560' '2240' '1280' '1080' '3840' '2160'\n",
      " '3024' '2220' '1024' '2496' '3456' '3000' '3200' '2561']\n",
      "['1080' '768' '1504' '1200' '1800' '1600' '1020' '1400' '1664' '1440'\n",
      " '720' '1920' '2400' '1864' '1964' '2234' '2000' '1620' '2160']\n"
     ]
    }
   ],
   "source": [
    "print(df['X_res'].unique())\n",
    "print(df['Y_res'].unique())"
   ]
  },
  {
   "cell_type": "code",
   "execution_count": 27,
   "metadata": {},
   "outputs": [
    {
     "data": {
      "text/plain": [
       "0"
      ]
     },
     "execution_count": 27,
     "metadata": {},
     "output_type": "execute_result"
    }
   ],
   "source": [
    "df['Screensize'].isnull().sum()"
   ]
  },
  {
   "cell_type": "code",
   "execution_count": 28,
   "metadata": {},
   "outputs": [
    {
     "data": {
      "text/plain": [
       "array(['39.62 cm (15.6 inch)', '39.62 cm (15.6 Inch)',\n",
       "       '35.56 cm (14 inch)', '34.29 cm (13.5 inch)', '35.56 cm (14 Inch)',\n",
       "       '33.78 cm (13.3 Inch)', '96.52 cm (38 cm)',\n",
       "       '39.01 cm (15.36 inch)', '38.0 cm (14.96 inch)',\n",
       "       '40.64 cm (16 Inch)', '35.81 cm (14.1 inch)',\n",
       "       '100.63 cm (39.62 cm)', '33.78 cm (13.3 inch)',\n",
       "       '40.89 cm (16.1 Inch)', '34.54 cm (13.6 Inch)',\n",
       "       '40.64 cm (16 inch)', '29.46 cm (11.6 inch)', '99.06 cm (39 cm)',\n",
       "       '40.89 cm (16.1 inch)', '38.86 cm (15.3 Inch)',\n",
       "       '43.94 cm (17.3 Inch)', '43.94 cm (17.3 inch)',\n",
       "       '85.8 cm (33.78 cm)', '35.05 cm (13.8 Inch)', '38.1 cm (15 inch)',\n",
       "       '29.46 cm (11.6 Inch)', '42.16 cm (16.6 inch)',\n",
       "       '35.0 cm (13.78 inch)', '33.02 cm (13 inch)', '17.78 cm (7 Inch)',\n",
       "       '35.81 cm (14.1 Inch)', '36.83 cm (14.5 Inch)',\n",
       "       '36.07 cm (14.2 inch)', '34.29 cm (13.5 Inch)',\n",
       "       '35.56 cm (14 inches)', '34.04 cm (13.4 inch)',\n",
       "       '41.15 cm (16.2 inch)', '34.19 cm (13.46 inch)',\n",
       "       '39.62 cm (15.6 mm)', '25.65 cm (10.1 Inch)',\n",
       "       '38.0 cm (14.96 Inch)'], dtype=object)"
      ]
     },
     "execution_count": 28,
     "metadata": {},
     "output_type": "execute_result"
    }
   ],
   "source": [
    "df['Screensize'].unique()"
   ]
  },
  {
   "cell_type": "code",
   "execution_count": 29,
   "metadata": {},
   "outputs": [],
   "source": [
    "df['Screensize'] = df['Screensize'].str.extract(r'\\((.*?)\\)')"
   ]
  },
  {
   "cell_type": "code",
   "execution_count": 30,
   "metadata": {},
   "outputs": [
    {
     "data": {
      "text/plain": [
       "array(['15.6 inch', '15.6 Inch', '14 inch', '13.5 inch', '14 Inch',\n",
       "       '13.3 Inch', '38 cm', '15.36 inch', '14.96 inch', '16 Inch',\n",
       "       '14.1 inch', '39.62 cm', '13.3 inch', '16.1 Inch', '13.6 Inch',\n",
       "       '16 inch', '11.6 inch', '39 cm', '16.1 inch', '15.3 Inch',\n",
       "       '17.3 Inch', '17.3 inch', '33.78 cm', '13.8 Inch', '15 inch',\n",
       "       '11.6 Inch', '16.6 inch', '13.78 inch', '13 inch', '7 Inch',\n",
       "       '14.1 Inch', '14.5 Inch', '14.2 inch', '13.5 Inch', '14 inches',\n",
       "       '13.4 inch', '16.2 inch', '13.46 inch', '15.6 mm', '10.1 Inch',\n",
       "       '14.96 Inch'], dtype=object)"
      ]
     },
     "execution_count": 30,
     "metadata": {},
     "output_type": "execute_result"
    }
   ],
   "source": [
    "df['Screensize'].unique()"
   ]
  },
  {
   "cell_type": "code",
   "execution_count": 31,
   "metadata": {},
   "outputs": [],
   "source": [
    "df['Screensize'] = df['Screensize'].str.split()"
   ]
  },
  {
   "cell_type": "code",
   "execution_count": 32,
   "metadata": {},
   "outputs": [],
   "source": [
    "df['Screensize']=df['Screensize'].apply(lambda x: float(x[0]))"
   ]
  },
  {
   "cell_type": "code",
   "execution_count": 33,
   "metadata": {},
   "outputs": [
    {
     "name": "stdout",
     "output_type": "stream",
     "text": [
      "0\n",
      "Screensize\n",
      "15.60    874\n",
      "14.00    379\n",
      "16.00     98\n",
      "17.30     32\n",
      "13.30     31\n",
      "16.10     24\n",
      "11.60     17\n",
      "14.10     12\n",
      "15.30      8\n",
      "38.00      7\n",
      "39.62      6\n",
      "13.60      5\n",
      "13.00      4\n",
      "13.50      4\n",
      "15.00      4\n",
      "16.20      3\n",
      "13.78      3\n",
      "13.40      3\n",
      "14.96      2\n",
      "39.00      2\n",
      "15.36      2\n",
      "7.00       2\n",
      "14.50      2\n",
      "14.20      2\n",
      "13.80      2\n",
      "13.46      1\n",
      "16.60      1\n",
      "33.78      1\n",
      "10.10      1\n",
      "Name: count, dtype: int64\n"
     ]
    }
   ],
   "source": [
    "print(df['Screensize'].isnull().sum())\n",
    "print(df['Screensize'].value_counts())"
   ]
  },
  {
   "cell_type": "code",
   "execution_count": 34,
   "metadata": {},
   "outputs": [],
   "source": [
    "df['X_res'] = pd.to_numeric(df['X_res'])\n",
    "df['Y_res'] = pd.to_numeric(df['Y_res'])"
   ]
  },
  {
   "cell_type": "code",
   "execution_count": 35,
   "metadata": {},
   "outputs": [
    {
     "name": "stdout",
     "output_type": "stream",
     "text": [
      "[1920 1366 2256 2880 2560 2240 1280 1080 3840 2160 3024 2220 1024 2496\n",
      " 3456 3000 3200 2561]\n",
      "[1080  768 1504 1200 1800 1600 1020 1400 1664 1440  720 1920 2400 1864\n",
      " 1964 2234 2000 1620 2160]\n"
     ]
    }
   ],
   "source": [
    "print(df['X_res'].unique())\n",
    "print(df['Y_res'].unique())"
   ]
  },
  {
   "cell_type": "code",
   "execution_count": 36,
   "metadata": {},
   "outputs": [
    {
     "data": {
      "text/plain": [
       "0       141.211998\n",
       "1       141.211998\n",
       "2       141.211998\n",
       "3       141.211998\n",
       "4       141.211998\n",
       "           ...    \n",
       "1899    157.350512\n",
       "1905    141.211998\n",
       "1908    141.211998\n",
       "1909    141.211998\n",
       "1910    127.335675\n",
       "Name: PPI, Length: 1532, dtype: float64"
      ]
     },
     "execution_count": 36,
     "metadata": {},
     "output_type": "execute_result"
    }
   ],
   "source": [
    "df['PPI'] = ( (df['X_res'] ** 2 + df['Y_res'] ** 2) ** 0.5 ) / df['Screensize']\n",
    "df['PPI']"
   ]
  },
  {
   "cell_type": "code",
   "execution_count": 37,
   "metadata": {},
   "outputs": [],
   "source": [
    "df = df.drop(columns=['X_res', 'Y_res', 'Screensize'])"
   ]
  },
  {
   "cell_type": "markdown",
   "metadata": {},
   "source": [
    "### Working with Storage"
   ]
  },
  {
   "cell_type": "code",
   "execution_count": 38,
   "metadata": {},
   "outputs": [
    {
     "name": "stdout",
     "output_type": "stream",
     "text": [
      "['512 GB' '256 GB' '0' '1 TB' '128 GB' '2 TB' 'No' '16 GB']\n",
      "['0' '1 TB' '512 GB' 'No' '128 GB']\n"
     ]
    }
   ],
   "source": [
    "print(df['SSDCap'].unique())\n",
    "print(df['HDDCap'].unique())"
   ]
  },
  {
   "cell_type": "code",
   "execution_count": 39,
   "metadata": {},
   "outputs": [
    {
     "name": "stdout",
     "output_type": "stream",
     "text": [
      "0\n",
      "0\n"
     ]
    }
   ],
   "source": [
    "print(df['SSDCap'].isnull().sum())\n",
    "print(df['HDDCap'].isnull().sum())"
   ]
  },
  {
   "cell_type": "code",
   "execution_count": 40,
   "metadata": {},
   "outputs": [],
   "source": [
    "def convert_to_gb(capacity):\n",
    "    if capacity == 'No':\n",
    "        return 0\n",
    "    elif 'TB' in capacity:\n",
    "        return int(capacity.replace(' TB', '')) * 1024  # Convert TB to GB\n",
    "    elif 'GB' in capacity:\n",
    "        return int(capacity.replace(' GB', ''))\n",
    "    else:\n",
    "        return 0"
   ]
  },
  {
   "cell_type": "code",
   "execution_count": 41,
   "metadata": {},
   "outputs": [],
   "source": [
    "df['SSDCap'] = df['SSDCap'].apply(convert_to_gb)\n",
    "df['HDDCap'] = df['HDDCap'].apply(convert_to_gb)"
   ]
  },
  {
   "cell_type": "code",
   "execution_count": 42,
   "metadata": {},
   "outputs": [
    {
     "name": "stdout",
     "output_type": "stream",
     "text": [
      "[ 512  256    0 1024  128 2048   16]\n",
      "[   0 1024  512  128]\n"
     ]
    }
   ],
   "source": [
    "print(df['SSDCap'].unique())\n",
    "print(df['HDDCap'].unique())"
   ]
  },
  {
   "cell_type": "code",
   "execution_count": 43,
   "metadata": {},
   "outputs": [
    {
     "name": "stdout",
     "output_type": "stream",
     "text": [
      "0\n",
      "0\n"
     ]
    }
   ],
   "source": [
    "print(df['SSDCap'].isnull().sum())\n",
    "print(df['HDDCap'].isnull().sum())"
   ]
  },
  {
   "cell_type": "markdown",
   "metadata": {},
   "source": [
    "### Working with RAM"
   ]
  },
  {
   "cell_type": "code",
   "execution_count": 44,
   "metadata": {},
   "outputs": [
    {
     "data": {
      "text/plain": [
       "array(['8 GB', '4 GB', '12 GB', '16 GB', '32 GB', '36 GB', '18 GB',\n",
       "       '64 GB', '2 GB'], dtype=object)"
      ]
     },
     "execution_count": 44,
     "metadata": {},
     "output_type": "execute_result"
    }
   ],
   "source": [
    "df['RAM'].unique()"
   ]
  },
  {
   "cell_type": "code",
   "execution_count": 45,
   "metadata": {},
   "outputs": [
    {
     "data": {
      "text/plain": [
       "0"
      ]
     },
     "execution_count": 45,
     "metadata": {},
     "output_type": "execute_result"
    }
   ],
   "source": [
    "df['RAM'].isnull().sum()"
   ]
  },
  {
   "cell_type": "code",
   "execution_count": 46,
   "metadata": {},
   "outputs": [],
   "source": [
    "df['RAM'] = df['RAM'].apply(lambda x: int(x.replace(' GB','')))"
   ]
  },
  {
   "cell_type": "code",
   "execution_count": 47,
   "metadata": {},
   "outputs": [
    {
     "data": {
      "text/plain": [
       "array([ 8,  4, 12, 16, 32, 36, 18, 64,  2], dtype=int64)"
      ]
     },
     "execution_count": 47,
     "metadata": {},
     "output_type": "execute_result"
    }
   ],
   "source": [
    "df['RAM'].unique()"
   ]
  },
  {
   "cell_type": "markdown",
   "metadata": {},
   "source": [
    "### Working with GPU"
   ]
  },
  {
   "cell_type": "code",
   "execution_count": 48,
   "metadata": {},
   "outputs": [
    {
     "data": {
      "text/plain": [
       "brand                 0\n",
       "type                  0\n",
       "colour                0\n",
       "msoffice              0\n",
       "RAM                   0\n",
       "RAMtype               0\n",
       "SSDCap                0\n",
       "HDDCap                0\n",
       "ProcessorBrand        0\n",
       "ProcessorName         0\n",
       "ProcessorVariant    155\n",
       "ClockSpeed          191\n",
       "GPU                  47\n",
       "GPUramtype            0\n",
       "GPUramcap             0\n",
       "OS                    0\n",
       "Touchscreen           0\n",
       "Screenreso            0\n",
       "refreshrate           0\n",
       "Bluetooth             0\n",
       "Weight              152\n",
       "BacklitKB             0\n",
       "warranty              0\n",
       "price                 0\n",
       "PPI                   0\n",
       "dtype: int64"
      ]
     },
     "execution_count": 48,
     "metadata": {},
     "output_type": "execute_result"
    }
   ],
   "source": [
    "df.isnull().sum()"
   ]
  },
  {
   "cell_type": "code",
   "execution_count": 49,
   "metadata": {},
   "outputs": [
    {
     "name": "stderr",
     "output_type": "stream",
     "text": [
      "C:\\Users\\vsing\\AppData\\Local\\Temp\\ipykernel_19048\\2068183279.py:1: FutureWarning: A value is trying to be set on a copy of a DataFrame or Series through chained assignment using an inplace method.\n",
      "The behavior will change in pandas 3.0. This inplace method will never work because the intermediate object on which we are setting values always behaves as a copy.\n",
      "\n",
      "For example, when doing 'df[col].method(value, inplace=True)', try using 'df.method({col: value}, inplace=True)' or df[col] = df[col].method(value) instead, to perform the operation inplace on the original object.\n",
      "\n",
      "\n",
      "  df['GPU'].fillna('NIL', inplace=True)\n"
     ]
    }
   ],
   "source": [
    "df['GPU'].fillna('NIL', inplace=True)"
   ]
  },
  {
   "cell_type": "code",
   "execution_count": 50,
   "metadata": {},
   "outputs": [
    {
     "data": {
      "text/plain": [
       "0"
      ]
     },
     "execution_count": 50,
     "metadata": {},
     "output_type": "execute_result"
    }
   ],
   "source": [
    "df['GPU'].isnull().sum()"
   ]
  },
  {
   "cell_type": "code",
   "execution_count": 51,
   "metadata": {},
   "outputs": [
    {
     "data": {
      "text/plain": [
       "{'MediaTek Integrated',\n",
       " 'MediaTek Integrated ARM Mali G72',\n",
       " 'MediaTek Integrated ARM Mali-G52 2EE MC2',\n",
       " 'MediaTek Integrated Integrated',\n",
       " 'MediaTek Integrated Iris Xe'}"
      ]
     },
     "execution_count": 51,
     "metadata": {},
     "output_type": "execute_result"
    }
   ],
   "source": [
    "Nvidia1 = df['GPU'].apply(lambda x: x if isinstance(x, str) and 'MediaTek' in x else None).dropna().tolist()\n",
    "set(Nvidia1)"
   ]
  },
  {
   "cell_type": "code",
   "execution_count": 52,
   "metadata": {},
   "outputs": [],
   "source": [
    "def check_nvidia_models(text):\n",
    "    if \"NVIDIA GeForce GTX\" in text:\n",
    "        if \"1650 Ti\" in text:\n",
    "            return \"NVIDIA GeForce GTX 1650 Ti\"\n",
    "        elif \"1650 Max Q\" in text:\n",
    "            return \"NVIDIA GeForce GTX 1650 Max Q\"\n",
    "        else:\n",
    "            return \"NVIDIA GeForce GTX 1650\"\n",
    "    elif \"NVIDIA GeForce RTX\" in text:\n",
    "        if \"2050\" in text:\n",
    "            return \"NVIDIA GeForce RTX 2050\"\n",
    "        elif \"3050\" in text:\n",
    "            return \"NVIDIA GeForce RTX 3050\"\n",
    "        elif \"3050 Ti\" in text:\n",
    "            return \"NVIDIA GeForce RTX 3050 Ti\"\n",
    "        elif \"3060\" in text:\n",
    "            return \"NVIDIA GeForce RTX 3060\" \n",
    "        elif \"3070\" in text:\n",
    "            return \"NVIDIA GeForce RTX 3070\"\n",
    "        elif \"3070 Ti\" in text:\n",
    "            return \"NVIDIA GeForce RTX 3070 Ti\"\n",
    "        elif \"3080\" in text:\n",
    "            return \"NVIDIA GeForce RTX 3080\"\n",
    "        elif \"3080 Ti\" in text:\n",
    "            return \"NVIDIA GeForce RTX 3080 Ti\"\n",
    "        elif \"4050\" in text:\n",
    "            return \"NVIDIA GeForce RTX 4050\"\n",
    "        elif \"4060\" in text:\n",
    "            return \"NVIDIA GeForce RTX 4060\"\n",
    "        elif \"4070\" in text:\n",
    "            return \"NVIDIA GeForce RTX 4070\"\n",
    "        elif \"4080\" in text:\n",
    "            return \"NVIDIA GeForce RTX 4080\"\n",
    "        elif \"4090\" in text:\n",
    "            return \"NVIDIA GeForce RTX 4090\"\n",
    "    elif \"NVIDIA GeForce MX\" in text:\n",
    "        if \"150\" in text:\n",
    "            return \"NVIDIA GeForce MX150\"\n",
    "        elif \"330\" in text:\n",
    "            return \"NVIDIA GeForce MX330\"\n",
    "        elif \"450\" in text:\n",
    "            return \"NVIDIA GeForce MX450\"\n",
    "        elif \"550\" in text:\n",
    "            return \"NVIDIA GeForce MX550\"\n",
    "    elif \"AMD Radeon\" in text:\n",
    "        if \"Vega 7\" in text:\n",
    "            return \"AMD Radeon Vega 7\"\n",
    "        elif \"Vega 8\" in text:\n",
    "            return \"AMD Radeon Vega 8\"\n",
    "        elif \"RX Vega 10\" in text:\n",
    "            return \"AMD Radeon RX Vega 10\"\n",
    "        elif \"RX 6500M\" in text or \"RX6500M\" in text:\n",
    "            return \"AMD Radeon RX 6500M\"\n",
    "        elif \"RX 6550M\" in text or \"RX6550M\" in text:\n",
    "            return \"AMD Radeon RX 6550M\"\n",
    "        elif \"RX 6650M\" in text:\n",
    "            return \"AMD Radeon RX 6650M\"\n",
    "        elif \"RX 6800M\" in text:\n",
    "            return \"AMD Radeon RX 6800M\"\n",
    "        elif \"530\" in text:\n",
    "            return \"AMD Radeon 530\"\n",
    "        elif \"610M\" in text:\n",
    "            return \"AMD Radeon 610M\"\n",
    "        elif \"Integrated\" in text:\n",
    "            return \"AMD Radeon Integrated\"\n",
    "        elif \"Athlon 3000G\" in text:\n",
    "            return \"AMD Radeon Athlon 3000G\"\n",
    "        elif \"R7\" in text:\n",
    "            return \"AMD Radeon R7\"\n",
    "        else:\n",
    "            return \"AMD Radeon Vega Graphics\"\n",
    "    elif \"Intel\" in text:\n",
    "        if \"UHD\" in text:\n",
    "            return \"Intel Integrated UHD\"\n",
    "        elif \"Iris\" in text:\n",
    "            if \"Plus\" in text:\n",
    "                return \"Intel Integrated Iris Plus Graphics\"\n",
    "            elif \"X\" in text:\n",
    "                return \"Intel Integrated Iris X graphics\"\n",
    "            else:\n",
    "                return \"Intel Integrated Iris Xe Graphics\"\n",
    "        else:\n",
    "            return \"Intel Integrated Graphics\"\n",
    "    elif \"MediaTek\" in text:\n",
    "        return \"MediaTek Integrated Graphics\"\n",
    "    else:\n",
    "        return \"NIL\"\n",
    "\n",
    "df['GPU'] = df['GPU'].apply(check_nvidia_models)\n"
   ]
  },
  {
   "cell_type": "code",
   "execution_count": 53,
   "metadata": {},
   "outputs": [
    {
     "data": {
      "text/plain": [
       "array(['AMD Radeon RX 6550M', 'Intel Integrated Graphics',\n",
       "       'Intel Integrated UHD', 'AMD Radeon Vega Graphics',\n",
       "       'AMD Radeon Vega 8', 'AMD Radeon 610M',\n",
       "       'Intel Integrated Iris X graphics', 'NVIDIA GeForce RTX 3050',\n",
       "       'NVIDIA GeForce GTX 1650', 'NVIDIA GeForce RTX 2050', 'NIL',\n",
       "       'AMD Radeon RX 6500M', 'MediaTek Integrated Graphics',\n",
       "       'Intel Integrated Iris Plus Graphics', 'NVIDIA GeForce RTX 4050',\n",
       "       'AMD Radeon Vega 7', 'NVIDIA GeForce RTX 3060',\n",
       "       'NVIDIA GeForce MX550', 'NVIDIA GeForce MX450',\n",
       "       'NVIDIA GeForce GTX 1650 Max Q', 'NVIDIA GeForce RTX 4060',\n",
       "       'NVIDIA GeForce RTX 3070', 'AMD Radeon Integrated',\n",
       "       'NVIDIA GeForce GTX 1650 Ti', 'NVIDIA GeForce RTX 4070',\n",
       "       'AMD Radeon 530', 'NVIDIA GeForce RTX 3080',\n",
       "       'AMD Radeon RX Vega 10', 'NVIDIA GeForce MX150',\n",
       "       'AMD Radeon Athlon 3000G', 'AMD Radeon R7', 'AMD Radeon RX 6800M',\n",
       "       None, 'NVIDIA GeForce MX330', 'AMD Radeon RX 6650M',\n",
       "       'NVIDIA GeForce RTX 4080', 'NVIDIA GeForce RTX 4090'], dtype=object)"
      ]
     },
     "execution_count": 53,
     "metadata": {},
     "output_type": "execute_result"
    }
   ],
   "source": [
    "df['GPU'].unique()"
   ]
  },
  {
   "cell_type": "markdown",
   "metadata": {},
   "source": [
    "### Dropping Uneccessary Column"
   ]
  },
  {
   "cell_type": "code",
   "execution_count": 54,
   "metadata": {},
   "outputs": [
    {
     "name": "stdout",
     "output_type": "stream",
     "text": [
      "<class 'pandas.core.frame.DataFrame'>\n",
      "Index: 1532 entries, 0 to 1910\n",
      "Data columns (total 25 columns):\n",
      " #   Column            Non-Null Count  Dtype  \n",
      "---  ------            --------------  -----  \n",
      " 0   brand             1532 non-null   object \n",
      " 1   type              1532 non-null   object \n",
      " 2   colour            1532 non-null   object \n",
      " 3   msoffice          1532 non-null   int64  \n",
      " 4   RAM               1532 non-null   int64  \n",
      " 5   RAMtype           1532 non-null   object \n",
      " 6   SSDCap            1532 non-null   int64  \n",
      " 7   HDDCap            1532 non-null   int64  \n",
      " 8   ProcessorBrand    1532 non-null   object \n",
      " 9   ProcessorName     1532 non-null   object \n",
      " 10  ProcessorVariant  1377 non-null   object \n",
      " 11  ClockSpeed        1341 non-null   object \n",
      " 12  GPU               1531 non-null   object \n",
      " 13  GPUramtype        1532 non-null   object \n",
      " 14  GPUramcap         1532 non-null   object \n",
      " 15  OS                1532 non-null   object \n",
      " 16  Touchscreen       1532 non-null   int64  \n",
      " 17  Screenreso        1532 non-null   object \n",
      " 18  refreshrate       1532 non-null   object \n",
      " 19  Bluetooth         1532 non-null   object \n",
      " 20  Weight            1380 non-null   object \n",
      " 21  BacklitKB         1532 non-null   int64  \n",
      " 22  warranty          1532 non-null   object \n",
      " 23  price             1532 non-null   float64\n",
      " 24  PPI               1532 non-null   float64\n",
      "dtypes: float64(2), int64(6), object(17)\n",
      "memory usage: 311.2+ KB\n"
     ]
    }
   ],
   "source": [
    "df.info()"
   ]
  },
  {
   "cell_type": "code",
   "execution_count": 55,
   "metadata": {},
   "outputs": [],
   "source": [
    "df = df.drop(columns=['colour','ClockSpeed','Screenreso','GPUramcap','GPUramtype','Bluetooth','RAMtype'])"
   ]
  },
  {
   "cell_type": "code",
   "execution_count": 56,
   "metadata": {},
   "outputs": [
    {
     "name": "stdout",
     "output_type": "stream",
     "text": [
      "<class 'pandas.core.frame.DataFrame'>\n",
      "Index: 1532 entries, 0 to 1910\n",
      "Data columns (total 18 columns):\n",
      " #   Column            Non-Null Count  Dtype  \n",
      "---  ------            --------------  -----  \n",
      " 0   brand             1532 non-null   object \n",
      " 1   type              1532 non-null   object \n",
      " 2   msoffice          1532 non-null   int64  \n",
      " 3   RAM               1532 non-null   int64  \n",
      " 4   SSDCap            1532 non-null   int64  \n",
      " 5   HDDCap            1532 non-null   int64  \n",
      " 6   ProcessorBrand    1532 non-null   object \n",
      " 7   ProcessorName     1532 non-null   object \n",
      " 8   ProcessorVariant  1377 non-null   object \n",
      " 9   GPU               1531 non-null   object \n",
      " 10  OS                1532 non-null   object \n",
      " 11  Touchscreen       1532 non-null   int64  \n",
      " 12  refreshrate       1532 non-null   object \n",
      " 13  Weight            1380 non-null   object \n",
      " 14  BacklitKB         1532 non-null   int64  \n",
      " 15  warranty          1532 non-null   object \n",
      " 16  price             1532 non-null   float64\n",
      " 17  PPI               1532 non-null   float64\n",
      "dtypes: float64(2), int64(6), object(10)\n",
      "memory usage: 227.4+ KB\n"
     ]
    }
   ],
   "source": [
    "df.info()"
   ]
  },
  {
   "cell_type": "markdown",
   "metadata": {},
   "source": [
    "# Working with Processor"
   ]
  },
  {
   "cell_type": "code",
   "execution_count": 57,
   "metadata": {},
   "outputs": [
    {
     "name": "stdout",
     "output_type": "stream",
     "text": [
      "['AMD' 'Intel' 'MediaTek' 'Apple']\n",
      "['Ryzen 5 Hexa Core' 'Celeron Dual Core' 'Core i3' 'Ryzen 5 Quad Core'\n",
      " 'Ryzen 3 Quad Core' 'Ryzen 3 Dual Core' 'Athlon Dual Core' 'Core i5'\n",
      " 'Celeron Quad Core' 'Ryzen 7 Octa Core' 'Ryzen 3 Hexa Core' 'Core i7'\n",
      " 'MediaTek Kompanio 520' 'M1' 'M2' 'Core i9' 'Core Ultra 7'\n",
      " 'MediaTek Kompanio 1200' 'Ryzen 5 Dual Core' 'Ryzen 3 Octa Core'\n",
      " 'Core Ultra 5' 'M3' 'Ryzen 7 Hexa Core' 'Ryzen 9 Octa Core' 'M3 Max'\n",
      " 'Ryzen 7 Quad Core' 'Ryzen Z1 HexaCore' 'M3 Pro' 'Ryzen 7 Dual Core'\n",
      " 'M2 Max' 'Ryzen 5' 'M1 Pro' 'APU Quad Core A12' 'Core 7' 'M1 Max'\n",
      " 'Pentium Quad Core' 'Pentium Silver' 'MediaTek Kompanio 500'\n",
      " 'Atom Quad Core' 'MediaTek P60T' 'MediaTek MT8788']\n"
     ]
    }
   ],
   "source": [
    "print(df['ProcessorBrand'].unique())\n",
    "print(df['ProcessorName'].unique())"
   ]
  },
  {
   "cell_type": "code",
   "execution_count": 58,
   "metadata": {},
   "outputs": [
    {
     "name": "stdout",
     "output_type": "stream",
     "text": [
      "0\n",
      "0\n"
     ]
    }
   ],
   "source": [
    "print(df['ProcessorBrand'].isnull().sum())\n",
    "print(df['ProcessorName'].isnull().sum())"
   ]
  },
  {
   "cell_type": "code",
   "execution_count": 59,
   "metadata": {},
   "outputs": [],
   "source": [
    "df['Processor'] = df['ProcessorBrand'] + ' ' + df['ProcessorName']"
   ]
  },
  {
   "cell_type": "code",
   "execution_count": 60,
   "metadata": {},
   "outputs": [
    {
     "data": {
      "text/plain": [
       "array(['AMD Ryzen 5 Hexa Core', 'Intel Celeron Dual Core',\n",
       "       'Intel Core i3', 'AMD Ryzen 5 Quad Core', 'AMD Ryzen 3 Quad Core',\n",
       "       'AMD Ryzen 3 Dual Core', 'AMD Athlon Dual Core', 'Intel Core i5',\n",
       "       'Intel Celeron Quad Core', 'AMD Ryzen 7 Octa Core',\n",
       "       'AMD Ryzen 3 Hexa Core', 'Intel Core i7',\n",
       "       'MediaTek MediaTek Kompanio 520', 'Apple M1', 'Apple M2',\n",
       "       'Intel Core i9', 'Intel Core Ultra 7',\n",
       "       'MediaTek MediaTek Kompanio 1200', 'AMD Ryzen 5 Dual Core',\n",
       "       'AMD Ryzen 3 Octa Core', 'Intel Core Ultra 5', 'Apple M3',\n",
       "       'AMD Ryzen 7 Hexa Core', 'AMD Ryzen 9 Octa Core', 'Apple M3 Max',\n",
       "       'AMD Ryzen 7 Quad Core', 'AMD Ryzen Z1 HexaCore', 'Apple M3 Pro',\n",
       "       'AMD Ryzen 7 Dual Core', 'Apple M2 Max', 'AMD Ryzen 5',\n",
       "       'Apple M1 Pro', 'AMD APU Quad Core A12', 'Intel Core 7',\n",
       "       'Apple M1 Max', 'Intel Pentium Quad Core', 'Intel Pentium Silver',\n",
       "       'MediaTek MediaTek Kompanio 500', 'Intel Atom Quad Core',\n",
       "       'MediaTek MediaTek P60T', 'MediaTek MediaTek MT8788'], dtype=object)"
      ]
     },
     "execution_count": 60,
     "metadata": {},
     "output_type": "execute_result"
    }
   ],
   "source": [
    "df['Processor'].unique()"
   ]
  },
  {
   "cell_type": "code",
   "execution_count": 61,
   "metadata": {},
   "outputs": [
    {
     "data": {
      "text/plain": [
       "0"
      ]
     },
     "execution_count": 61,
     "metadata": {},
     "output_type": "execute_result"
    }
   ],
   "source": [
    "df['Processor'].isnull().sum()"
   ]
  },
  {
   "cell_type": "code",
   "execution_count": 62,
   "metadata": {},
   "outputs": [],
   "source": [
    "df = df.drop(columns = ['ProcessorBrand','ProcessorName','ProcessorVariant'])"
   ]
  },
  {
   "cell_type": "markdown",
   "metadata": {},
   "source": [
    "### Working with weight and warranty"
   ]
  },
  {
   "cell_type": "code",
   "execution_count": 63,
   "metadata": {},
   "outputs": [
    {
     "data": {
      "text/plain": [
       "152"
      ]
     },
     "execution_count": 63,
     "metadata": {},
     "output_type": "execute_result"
    }
   ],
   "source": [
    "df['Weight'].isnull().sum()"
   ]
  },
  {
   "cell_type": "code",
   "execution_count": 64,
   "metadata": {},
   "outputs": [
    {
     "data": {
      "text/plain": [
       "array(['2.35 Kg', nan, '1.69 kg', '1.78 Kg', '1.69 Kg', '1.78 kg',\n",
       "       '1.41 kg', '1340 g', '1.7 Kg', '1.65 Kg', '1.4 Kg', '1.58 Kg',\n",
       "       '1.80 Kg', '1.24 Kg', '1.80 kg', '1.98 kg', '1.74 Kg', '0.87 Kg',\n",
       "       '1.57 Kg', '1.76 Kg', '1.46 kg', '1.6 Kg', '1.60 Kg', '2.30 Kg',\n",
       "       '1.63 Kg', '1.76 kg', '1.70 kg', '1.83 Kg', '1.7 kg', '1.86 Kg',\n",
       "       '1.65 kg', '1.8 kg', '2.30 kg', '1.49 Kg', '1.50 Kg', '1.48 Kg',\n",
       "       '1.75 Kg', '1.89 kg', '2.1 Kg', '1.59 Kg', '1.39 kg', '2.0 Kg',\n",
       "       '1.47 kg', '1.24 kg', '2.37 kg', '2.37 Kg', '2.32 Kg', '1.58 kg',\n",
       "       '1.50 kg', '1.3 Kg', '1.41 Kg', '1.29 kg', '1.40 kg', '1.46 Kg kg',\n",
       "       '2.4 Kg', '1.70 Kg', '1.57 kg', '2.48 Kg', '1.35 Kg', '0.91 kg',\n",
       "       '2.5 Kg', '2.25 Kg', '1.25 kg', '1.60 kg', '2.20 kg', '1.38 Kg',\n",
       "       '1.94 kg', '2.25 kg', '2 kg', '1.47 Kg', '2.20 Kg', '2.30 kg kg',\n",
       "       '1.62 kg', '1.40 Kg', '1.69 Kgs', '2.6 Kg', '1.4 kg', '2.3 KG',\n",
       "       '1.34 Kg', '2.57 kg', '2.32 kg', '1.54 Kg', '1.51 Kg', '1.88 Kg',\n",
       "       '1.8 Kgs', '1.46 KG', '1.30 kg', '1.75 Kg kg', '1.89 Kg',\n",
       "       '1.38 kg', '1.46 Kg', '2.48 kg', '1.32 Kg', '1.21 kg', '2.08 Kg',\n",
       "       '2.60 Kg', '1.55 Kg', '2.10 Kg', '1.75 kg', '2.49 Kg', '2.3 Kg',\n",
       "       '1.2 Kg', '0.999 Kg', '0.97 kg', '1.88 kg', '1.5 Kg', '1.66 kg',\n",
       "       '1.90 kg', '2.14 Kg', '1.63 kg', '1.25 Kg', '1.61 kg', '2.6 kg',\n",
       "       '1.27 kg', '1.37 kg', '1.41 Kg kg', '2.04 kg', '1.7 kg kg',\n",
       "       '1.3 kg', '1.85 kg', '2.60 kg', '2.50 Kg', '1.62 Kg', '1.56 Kg',\n",
       "       '2.76 Kg', '2.5 kg', '1.12 kg', '1.77 kg', '2.1 kg', '1.74 kg',\n",
       "       '2.015 kg', '608.0 g', '1.86 kg', '2.4 kg', '2.3 kg', '1.8 Kg',\n",
       "       '0.97 Kg', '2.7 Kg', '1.6 kg', '3.31 Kg', '1.5 kg', '1.68 Kg',\n",
       "       '1.44 Kg', '2.81 Kg', '1.90 Kg', '2.023 kg', '1.52 kg', '2.51 Kg',\n",
       "       '1.43 kg', '2.34 Kg', '1.26 kg', '1.17 Kg', '2.50 kg', '1.41 KG',\n",
       "       '1.30 Kg', '1.05 Kg', '1.20 Kg', '1.83 kg', '1.87 kg', '2.10 kg',\n",
       "       '1.91 kg kg', '2,2 kg', '2.2 kg', '1.9 kg', '2.39 Kg', '1.26 Kg',\n",
       "       '0.984 Kg', '1.23 kg', '2.45 kg', '1.54 kg', '1.64 Kg', '1.07 Kg',\n",
       "       '3.3 Kg', '2.14 kg', '879 g', '1.37 Kg', '2.65 Kg', '1 kg',\n",
       "       '1.55 kg', '1.39 Kg', '1.74 KG', '2 Kg', '1.49 kg', '1.9 Kg',\n",
       "       '2.09 KG', '0.99 Kg', '1.72 Kg', '1.56 kg', '1.16 Kg', '2.56 kg',\n",
       "       '2.29 kg', '1.45 Kg', '1.66 Kg', '1.31 Kg', '1.91 Kg', '1.52 Kg',\n",
       "       '450.0 g', '2.65 kg', '1.59 KG', '1.065 Kg'], dtype=object)"
      ]
     },
     "execution_count": 64,
     "metadata": {},
     "output_type": "execute_result"
    }
   ],
   "source": [
    "df['Weight'].unique()"
   ]
  },
  {
   "cell_type": "code",
   "execution_count": 65,
   "metadata": {},
   "outputs": [
    {
     "data": {
      "text/plain": [
       "array(['Gaming Laptop', 'Thin and Light Laptop', 'Notebook',\n",
       "       '2 in 1 Laptop', 'Business Laptop', 'Laptop', 'Chromebook',\n",
       "       'Creator Laptop', 'Handheld Gaming PC', '2 in 1 Gaming Laptop'],\n",
       "      dtype=object)"
      ]
     },
     "execution_count": 65,
     "metadata": {},
     "output_type": "execute_result"
    }
   ],
   "source": [
    "df['type'].unique()"
   ]
  },
  {
   "cell_type": "code",
   "execution_count": 66,
   "metadata": {},
   "outputs": [
    {
     "name": "stdout",
     "output_type": "stream",
     "text": [
      "       brand                   type  msoffice  RAM  SSDCap  HDDCap  \\\n",
      "0        MSI          Gaming Laptop         0    8     512       0   \n",
      "1        AXL  Thin and Light Laptop         0    4     256       0   \n",
      "2         HP  Thin and Light Laptop         1    8     512       0   \n",
      "3       Acer  Thin and Light Laptop         0    8     512       0   \n",
      "4         HP  Thin and Light Laptop         1    8     512       0   \n",
      "...      ...                    ...       ...  ...     ...     ...   \n",
      "1899    DELL  Thin and Light Laptop         1   16     512       0   \n",
      "1905    ASUS  Thin and Light Laptop         1    8     512       0   \n",
      "1908  Lenovo  Thin and Light Laptop         0    8     512       0   \n",
      "1909    ASUS  Thin and Light Laptop         1   16     512       0   \n",
      "1910    ASUS          Gaming Laptop         1   16    1024       0   \n",
      "\n",
      "                                   GPU               OS  Touchscreen  \\\n",
      "0                  AMD Radeon RX 6550M  Windows 11 Home            0   \n",
      "1            Intel Integrated Graphics  Windows 11 Home            0   \n",
      "2                 Intel Integrated UHD  Windows 11 Home            0   \n",
      "3             AMD Radeon Vega Graphics  Windows 11 Home            0   \n",
      "4             AMD Radeon Vega Graphics  Windows 11 Home            0   \n",
      "...                                ...              ...          ...   \n",
      "1899          AMD Radeon Vega Graphics  Windows 11 Home            0   \n",
      "1905         Intel Integrated Graphics  Windows 11 Home            0   \n",
      "1908          AMD Radeon Vega Graphics  Windows 11 Home            0   \n",
      "1909  Intel Integrated Iris X graphics  Windows 11 Home            0   \n",
      "1910           NVIDIA GeForce RTX 3060  Windows 11 Home            0   \n",
      "\n",
      "     refreshrate   Weight  BacklitKB                                 warranty  \\\n",
      "0         144 Hz  2.35 Kg          1                 1 Year Carry-in Warranty   \n",
      "1             60  1.69 Kg          0                                   1 Year   \n",
      "2             60  1.69 kg          1                   1 Year Onsite Warranty   \n",
      "3             60  1.78 Kg          0  1 Year International Travelers Warranty   \n",
      "4             60  1.69 Kg          0                   1 Year Onsite Warranty   \n",
      "...          ...      ...        ...                                      ...   \n",
      "1899          60  1.48 Kg          0           1 Year Onsite Hardware Service   \n",
      "1905          60  1.57 kg          1                   1 Year Onsite Warranty   \n",
      "1908          60   1.7 Kg          0                   1 Year Onsite Warranty   \n",
      "1909          60  1.80 Kg          0                   1 Year Onsite Warranty   \n",
      "1910      144 Hz  2.60 Kg          1                   1 Year Onsite Warranty   \n",
      "\n",
      "         price         PPI                Processor  \n",
      "0      45990.0  141.211998    AMD Ryzen 5 Hexa Core  \n",
      "1      16970.0  141.211998  Intel Celeron Dual Core  \n",
      "2      36990.0  141.211998            Intel Core i3  \n",
      "3      29990.0  141.211998    AMD Ryzen 5 Quad Core  \n",
      "4      32990.0  141.211998    AMD Ryzen 3 Quad Core  \n",
      "...        ...         ...                      ...  \n",
      "1899   46800.0  157.350512    AMD Ryzen 5 Hexa Core  \n",
      "1905   27990.0  141.211998  Intel Celeron Dual Core  \n",
      "1908   33900.0  141.211998    AMD Ryzen 5 Hexa Core  \n",
      "1909   62990.0  141.211998            Intel Core i7  \n",
      "1910  116000.0  127.335675            Intel Core i7  \n",
      "\n",
      "[1532 rows x 16 columns]\n"
     ]
    }
   ],
   "source": [
    "mode_weights = df.groupby('type')['Weight'].agg(lambda x: x.mode().iloc[0])\n",
    "for laptop_type, mode_weight in mode_weights.items():\n",
    "    df.loc[(df['type'] == laptop_type) & (df['Weight'].isnull()), 'Weight'] = mode_weight\n",
    "print(df)"
   ]
  },
  {
   "cell_type": "code",
   "execution_count": 67,
   "metadata": {},
   "outputs": [
    {
     "data": {
      "text/plain": [
       "0"
      ]
     },
     "execution_count": 67,
     "metadata": {},
     "output_type": "execute_result"
    }
   ],
   "source": [
    "df['Weight'].isnull().sum()"
   ]
  },
  {
   "cell_type": "code",
   "execution_count": 68,
   "metadata": {},
   "outputs": [],
   "source": [
    "def convert_to_kg(weight):\n",
    "    weight_lower = weight.lower()  \n",
    "    if 'kg' in weight_lower:\n",
    "        return float(weight_lower.split()[0])  \n",
    "    elif 'g' in weight_lower:\n",
    "        return float(weight_lower.split()[0]) / 1000      "
   ]
  },
  {
   "cell_type": "code",
   "execution_count": 69,
   "metadata": {},
   "outputs": [],
   "source": [
    "df['Weight'] = df['Weight'].str.replace(',','.')\n",
    "df['Weight'] = df['Weight'].apply(convert_to_kg)"
   ]
  },
  {
   "cell_type": "code",
   "execution_count": 70,
   "metadata": {},
   "outputs": [
    {
     "data": {
      "text/plain": [
       "0       2.35\n",
       "1       1.69\n",
       "2       1.69\n",
       "3       1.78\n",
       "4       1.69\n",
       "        ... \n",
       "1899    1.48\n",
       "1905    1.57\n",
       "1908    1.70\n",
       "1909    1.80\n",
       "1910    2.60\n",
       "Name: Weight, Length: 1532, dtype: float64"
      ]
     },
     "execution_count": 70,
     "metadata": {},
     "output_type": "execute_result"
    }
   ],
   "source": [
    "df['Weight']"
   ]
  },
  {
   "cell_type": "code",
   "execution_count": 71,
   "metadata": {},
   "outputs": [
    {
     "data": {
      "text/plain": [
       "array([2.35 , 1.69 , 1.78 , 1.41 , 1.34 , 1.7  , 1.65 , 1.4  , 1.58 ,\n",
       "       1.8  , 1.24 , 1.98 , 1.74 , 0.87 , 1.57 , 1.76 , 1.46 , 1.6  ,\n",
       "       2.3  , 1.63 , 1.83 , 1.86 , 1.49 , 1.5  , 1.48 , 1.75 , 1.89 ,\n",
       "       2.1  , 1.59 , 1.39 , 2.   , 1.47 , 2.37 , 2.32 , 1.3  , 1.29 ,\n",
       "       2.4  , 1.88 , 2.48 , 1.35 , 0.91 , 2.5  , 2.25 , 1.25 , 2.2  ,\n",
       "       1.38 , 1.94 , 1.62 , 2.6  , 2.57 , 1.54 , 1.51 , 1.32 , 1.21 ,\n",
       "       2.08 , 1.55 , 2.49 , 1.2  , 0.999, 0.97 , 1.66 , 1.9  , 2.14 ,\n",
       "       1.61 , 1.27 , 1.37 , 2.04 , 1.85 , 1.56 , 2.76 , 1.12 , 1.77 ,\n",
       "       2.015, 0.608, 2.7  , 3.31 , 1.68 , 1.44 , 2.81 , 2.023, 1.52 ,\n",
       "       2.51 , 1.43 , 2.34 , 1.26 , 1.17 , 1.05 , 1.87 , 1.91 , 2.39 ,\n",
       "       0.984, 1.23 , 2.45 , 1.64 , 1.07 , 3.3  , 0.879, 2.65 , 1.   ,\n",
       "       2.09 , 0.99 , 1.72 , 1.16 , 2.56 , 2.29 , 1.45 , 1.31 , 0.45 ,\n",
       "       1.065])"
      ]
     },
     "execution_count": 71,
     "metadata": {},
     "output_type": "execute_result"
    }
   ],
   "source": [
    "df['Weight'].unique()"
   ]
  },
  {
   "cell_type": "code",
   "execution_count": 72,
   "metadata": {},
   "outputs": [
    {
     "data": {
      "text/plain": [
       "0"
      ]
     },
     "execution_count": 72,
     "metadata": {},
     "output_type": "execute_result"
    }
   ],
   "source": [
    "df['Weight'].isnull().sum()"
   ]
  },
  {
   "cell_type": "markdown",
   "metadata": {},
   "source": [
    "### Working with Refresh Rate"
   ]
  },
  {
   "cell_type": "code",
   "execution_count": 73,
   "metadata": {},
   "outputs": [
    {
     "data": {
      "text/plain": [
       "array(['144 Hz', '60', '60 Hz', '120 Hz', '90 Hz', '165 Hz', '240 Hz',\n",
       "       '75 Hz', '360 Hz', '300 Hz'], dtype=object)"
      ]
     },
     "execution_count": 73,
     "metadata": {},
     "output_type": "execute_result"
    }
   ],
   "source": [
    "df['refreshrate'].unique()"
   ]
  },
  {
   "cell_type": "code",
   "execution_count": 74,
   "metadata": {},
   "outputs": [
    {
     "data": {
      "text/plain": [
       "0"
      ]
     },
     "execution_count": 74,
     "metadata": {},
     "output_type": "execute_result"
    }
   ],
   "source": [
    "df['refreshrate'].isnull().sum()"
   ]
  },
  {
   "cell_type": "code",
   "execution_count": 75,
   "metadata": {},
   "outputs": [],
   "source": [
    "df['refreshrate'] = df['refreshrate'].str.replace(' Hz', '').astype(int)"
   ]
  },
  {
   "cell_type": "code",
   "execution_count": 76,
   "metadata": {},
   "outputs": [
    {
     "data": {
      "text/plain": [
       "0"
      ]
     },
     "execution_count": 76,
     "metadata": {},
     "output_type": "execute_result"
    }
   ],
   "source": [
    "df['refreshrate'].isnull().sum()"
   ]
  },
  {
   "cell_type": "code",
   "execution_count": 77,
   "metadata": {},
   "outputs": [
    {
     "data": {
      "text/plain": [
       "array([144,  60, 120,  90, 165, 240,  75, 360, 300])"
      ]
     },
     "execution_count": 77,
     "metadata": {},
     "output_type": "execute_result"
    }
   ],
   "source": [
    "df['refreshrate'].unique()"
   ]
  },
  {
   "cell_type": "markdown",
   "metadata": {},
   "source": [
    "### Working with Warranty"
   ]
  },
  {
   "cell_type": "code",
   "execution_count": 78,
   "metadata": {},
   "outputs": [
    {
     "data": {
      "text/plain": [
       "array(['1 Year Carry-in Warranty', '1 Year', '1 Year Onsite Warranty',\n",
       "       '1 Year International Travelers Warranty',\n",
       "       '1 Year Onsite Warranty + 1 Year ADP',\n",
       "       '1 Year Onsite Hardware Service', '1 Year Onsite warranty by OEM',\n",
       "       '1 Yr Onsite Warranty + 1 Yr Premium Care',\n",
       "       '2 Year Carry-in Warranty', '1 Years', '1 Year Onsite warranty',\n",
       "       '1 year onsite + 1 year accidental damage protection',\n",
       "       '1Year Onsite Warranty',\n",
       "       '1 Year International Travelers Warranty (ITW)',\n",
       "       '1 Year Onsite ADP', '1 year warranty', '1 year Onsite Warranty',\n",
       "       '1 Year Carry-in warranty', '2 Year warranty',\n",
       "       '1 year Domestic warranty', '1 Year Limited Warra\\xadnty',\n",
       "       '1 Year onsite warranty', '1 Year Onsite Premium Support',\n",
       "       '1 Year Limited Warranty', '1 year Warranty',\n",
       "       '1 Year Carry Into Service Centre',\n",
       "       '1 Year Onsite Premium Support with 1 Year Onsite Warranty',\n",
       "       '2 Years On-Site Warranty', '1 Year manufacturer Warranty',\n",
       "       '3 year domestic', '1 Year Warranty', '1 YEAR FROM BRAND',\n",
       "       '2 Years Onsite�Warranty', '1 Year Premium Support',\n",
       "       '1 Years Carry in Warranty', '1 Year International Warranty',\n",
       "       '12 MONTHS', '12 Months', '1 year',\n",
       "       '1 Year Onsite�Warranty�+ 1 Year Premium Care + 1 Year Accidental Damage Protection',\n",
       "       '1 YEAR INTERNATIONAL', '1 Year Domestic Warranty', '1 YEAR',\n",
       "       '1-year warranty', '1 Year On Site Warranty',\n",
       "       '1 Year Onsite�Warranty�+ 1 Yr ADP', '1 year Onsite Warrenty',\n",
       "       '3 Years Onsite Warranty + 1 Year Accidental Damage Protection + 3 Years Legion Ultimate Support',\n",
       "       'Onsite 3 year warranty - 1st year internationally cover-up, rest 2 year India',\n",
       "       '1 Year warranty', '2 Year Carry-in Or Onsite',\n",
       "       '2 Year Warranty Term',\n",
       "       '1 Year Onsite Warranty + 1 Year Premium Care + 1 Year Accidental Damage Protection',\n",
       "       '1 Year Onsite', '1 year Manufacturer', '1 Year Manufacturer',\n",
       "       '1Year Onsite warranty',\n",
       "       'One-year International Travelers Warranty', '1 Year Domestic',\n",
       "       '3 Years', '1 Year On-Site Warranty',\n",
       "       '1 Year Onsite Warranty + 1 Year Accidental Damage Protection Add On',\n",
       "       '1 Year Warranty + 1 Year Premium Care + 1 Year ADP',\n",
       "       '1 Year international Warranty',\n",
       "       '1 Year Limited Hardware Warranty, In Home Service After Remote Diagnosis - Retail',\n",
       "       '1 Year Manufacturer Warranty', '1 Year Onsite�Warranty',\n",
       "       '2 Years Onsite Warranty', '1 year Domestic Warranty',\n",
       "       '1 Year Onsite Warranty + 1 year Legion Ultimate Support',\n",
       "       '1 year domestic warranty', '1 Year Domestic Warrenty',\n",
       "       '3 Years Domestic Warranty', '1 Year Carry in Warranty',\n",
       "       '1 Yera International Warranty',\n",
       "       '1 Year Onsite Warranty + 1 Year Premium Care + 1 Year ADP',\n",
       "       '1 Year Warranty Term', '1 YEAR WAARANTY',\n",
       "       '1 Year Onsite Warranty + 1 Year Accidental Damage Protection + 1 Year Legion Ultimate Support',\n",
       "       '1 Year onsite Warranty', '1 Year Limited Hardware Warranty',\n",
       "       '1 Year Onsite Premium Support Plus (Includes ADP)',\n",
       "       '1 Year Manufacturer Warranty on the Device and 6 Months Manufacturer Warranty on Included Accessories from the Date of Purchase',\n",
       "       '1 Year Manufacturer Warranty for Laptop and 6 Months for In-Box Accessories',\n",
       "       '1 year manufacturing Warranty', '1 Year Onsite with ADP warranty',\n",
       "       '1-year manufacturing warranty',\n",
       "       '1 Year Onsite�Warranty�+ 1 Year Accidental Damage Protection + 1 Year premium Care',\n",
       "       '3 Years Onsite Warranty + 3 Year Premium Care + 1 Year Accidental Damage Protection',\n",
       "       '3 Years Onsite�Warranty�+ 3 Years Legion Ultimate Support + 1 Year Accidental Damage Protection',\n",
       "       '2 Years Warranty',\n",
       "       '3 Years Warranty + 1 Year Premium Care + 1 Year ADP',\n",
       "       '2 Year Onsite Warranty',\n",
       "       '1 Year Onsite warranty + 1 Year Accidental Damage Protection + 1 Year Premium Care',\n",
       "       '1 Year Lenovo', '1 years warranty', '3-year Warranty',\n",
       "       '1 Year International Warrnaty', '1 Years On-Site Warranty',\n",
       "       '3-Year ADP Warranty', '2 Year On-Site & Carry-In Warranty',\n",
       "       '1 Year Onsite with ADP warranty by OEM', '1 Year Brand Warranty',\n",
       "       '2 Year Onsite�Warranty', '1 Year Pick and Drop Warranty'],\n",
       "      dtype=object)"
      ]
     },
     "execution_count": 78,
     "metadata": {},
     "output_type": "execute_result"
    }
   ],
   "source": [
    "df['warranty'].unique()"
   ]
  },
  {
   "cell_type": "code",
   "execution_count": 79,
   "metadata": {},
   "outputs": [
    {
     "data": {
      "text/plain": [
       "0"
      ]
     },
     "execution_count": 79,
     "metadata": {},
     "output_type": "execute_result"
    }
   ],
   "source": [
    "df['warranty'].isnull().sum()"
   ]
  },
  {
   "cell_type": "code",
   "execution_count": 80,
   "metadata": {},
   "outputs": [],
   "source": [
    "df['warranty'] = df['warranty'].str.extract(r'(\\d+)(?= Year)')"
   ]
  },
  {
   "cell_type": "code",
   "execution_count": 81,
   "metadata": {},
   "outputs": [
    {
     "data": {
      "text/plain": [
       "array(['1', nan, '2', '3'], dtype=object)"
      ]
     },
     "execution_count": 81,
     "metadata": {},
     "output_type": "execute_result"
    }
   ],
   "source": [
    "df['warranty'].unique()"
   ]
  },
  {
   "cell_type": "code",
   "execution_count": 82,
   "metadata": {},
   "outputs": [
    {
     "name": "stderr",
     "output_type": "stream",
     "text": [
      "C:\\Users\\vsing\\AppData\\Local\\Temp\\ipykernel_19048\\2284577593.py:1: FutureWarning: A value is trying to be set on a copy of a DataFrame or Series through chained assignment using an inplace method.\n",
      "The behavior will change in pandas 3.0. This inplace method will never work because the intermediate object on which we are setting values always behaves as a copy.\n",
      "\n",
      "For example, when doing 'df[col].method(value, inplace=True)', try using 'df.method({col: value}, inplace=True)' or df[col] = df[col].method(value) instead, to perform the operation inplace on the original object.\n",
      "\n",
      "\n",
      "  df['warranty'].fillna('1',inplace = True)\n"
     ]
    }
   ],
   "source": [
    "df['warranty'].fillna('1',inplace = True)"
   ]
  },
  {
   "cell_type": "code",
   "execution_count": 83,
   "metadata": {},
   "outputs": [
    {
     "data": {
      "text/plain": [
       "array(['1', '2', '3'], dtype=object)"
      ]
     },
     "execution_count": 83,
     "metadata": {},
     "output_type": "execute_result"
    }
   ],
   "source": [
    "df['warranty'].unique()"
   ]
  },
  {
   "cell_type": "code",
   "execution_count": 84,
   "metadata": {},
   "outputs": [
    {
     "data": {
      "text/plain": [
       "0"
      ]
     },
     "execution_count": 84,
     "metadata": {},
     "output_type": "execute_result"
    }
   ],
   "source": [
    "df['warranty'].isnull().sum()"
   ]
  },
  {
   "cell_type": "code",
   "execution_count": 85,
   "metadata": {},
   "outputs": [],
   "source": [
    "df['warranty'] = df['warranty'].astype(int)"
   ]
  },
  {
   "cell_type": "code",
   "execution_count": 86,
   "metadata": {},
   "outputs": [
    {
     "name": "stdout",
     "output_type": "stream",
     "text": [
      "<class 'pandas.core.frame.DataFrame'>\n",
      "Index: 1532 entries, 0 to 1910\n",
      "Data columns (total 16 columns):\n",
      " #   Column       Non-Null Count  Dtype  \n",
      "---  ------       --------------  -----  \n",
      " 0   brand        1532 non-null   object \n",
      " 1   type         1532 non-null   object \n",
      " 2   msoffice     1532 non-null   int64  \n",
      " 3   RAM          1532 non-null   int64  \n",
      " 4   SSDCap       1532 non-null   int64  \n",
      " 5   HDDCap       1532 non-null   int64  \n",
      " 6   GPU          1531 non-null   object \n",
      " 7   OS           1532 non-null   object \n",
      " 8   Touchscreen  1532 non-null   int64  \n",
      " 9   refreshrate  1532 non-null   int32  \n",
      " 10  Weight       1532 non-null   float64\n",
      " 11  BacklitKB    1532 non-null   int64  \n",
      " 12  warranty     1532 non-null   int32  \n",
      " 13  price        1532 non-null   float64\n",
      " 14  PPI          1532 non-null   float64\n",
      " 15  Processor    1532 non-null   object \n",
      "dtypes: float64(3), int32(2), int64(6), object(5)\n",
      "memory usage: 191.5+ KB\n"
     ]
    }
   ],
   "source": [
    "df.info()"
   ]
  },
  {
   "cell_type": "code",
   "execution_count": 87,
   "metadata": {},
   "outputs": [
    {
     "data": {
      "text/plain": [
       "array(['Windows 11 Home', 'DOS', 'Chrome', 'Mac OS Big Sur',\n",
       "       'Mac OS Monterey', 'Ubuntu', 'Windows 10 Home', 'macOS Ventura',\n",
       "       'Windows 10 Pro', 'macOS Sonoma', 'Windows 11 Pro', 'Windows 10',\n",
       "       'Mac OS Mojave', 'Prime OS'], dtype=object)"
      ]
     },
     "execution_count": 87,
     "metadata": {},
     "output_type": "execute_result"
    }
   ],
   "source": [
    "df['OS'].unique()"
   ]
  },
  {
   "cell_type": "code",
   "execution_count": 88,
   "metadata": {},
   "outputs": [
    {
     "data": {
      "text/plain": [
       "array(['AMD Ryzen 5 Hexa Core', 'Intel Celeron Dual Core',\n",
       "       'Intel Core i3', 'AMD Ryzen 5 Quad Core', 'AMD Ryzen 3 Quad Core',\n",
       "       'AMD Ryzen 3 Dual Core', 'AMD Athlon Dual Core', 'Intel Core i5',\n",
       "       'Intel Celeron Quad Core', 'AMD Ryzen 7 Octa Core',\n",
       "       'AMD Ryzen 3 Hexa Core', 'Intel Core i7',\n",
       "       'MediaTek MediaTek Kompanio 520', 'Apple M1', 'Apple M2',\n",
       "       'Intel Core i9', 'Intel Core Ultra 7',\n",
       "       'MediaTek MediaTek Kompanio 1200', 'AMD Ryzen 5 Dual Core',\n",
       "       'AMD Ryzen 3 Octa Core', 'Intel Core Ultra 5', 'Apple M3',\n",
       "       'AMD Ryzen 7 Hexa Core', 'AMD Ryzen 9 Octa Core', 'Apple M3 Max',\n",
       "       'AMD Ryzen 7 Quad Core', 'AMD Ryzen Z1 HexaCore', 'Apple M3 Pro',\n",
       "       'AMD Ryzen 7 Dual Core', 'Apple M2 Max', 'AMD Ryzen 5',\n",
       "       'Apple M1 Pro', 'AMD APU Quad Core A12', 'Intel Core 7',\n",
       "       'Apple M1 Max', 'Intel Pentium Quad Core', 'Intel Pentium Silver',\n",
       "       'MediaTek MediaTek Kompanio 500', 'Intel Atom Quad Core',\n",
       "       'MediaTek MediaTek P60T', 'MediaTek MediaTek MT8788'], dtype=object)"
      ]
     },
     "execution_count": 88,
     "metadata": {},
     "output_type": "execute_result"
    }
   ],
   "source": [
    "df['Processor'].unique()"
   ]
  },
  {
   "cell_type": "code",
   "execution_count": 89,
   "metadata": {},
   "outputs": [
    {
     "data": {
      "text/plain": [
       "array(['AMD Radeon RX 6550M', 'Intel Integrated Graphics',\n",
       "       'Intel Integrated UHD', 'AMD Radeon Vega Graphics',\n",
       "       'AMD Radeon Vega 8', 'AMD Radeon 610M',\n",
       "       'Intel Integrated Iris X graphics', 'NVIDIA GeForce RTX 3050',\n",
       "       'NVIDIA GeForce GTX 1650', 'NVIDIA GeForce RTX 2050', 'NIL',\n",
       "       'AMD Radeon RX 6500M', 'MediaTek Integrated Graphics',\n",
       "       'Intel Integrated Iris Plus Graphics', 'NVIDIA GeForce RTX 4050',\n",
       "       'AMD Radeon Vega 7', 'NVIDIA GeForce RTX 3060',\n",
       "       'NVIDIA GeForce MX550', 'NVIDIA GeForce MX450',\n",
       "       'NVIDIA GeForce GTX 1650 Max Q', 'NVIDIA GeForce RTX 4060',\n",
       "       'NVIDIA GeForce RTX 3070', 'AMD Radeon Integrated',\n",
       "       'NVIDIA GeForce GTX 1650 Ti', 'NVIDIA GeForce RTX 4070',\n",
       "       'AMD Radeon 530', 'NVIDIA GeForce RTX 3080',\n",
       "       'AMD Radeon RX Vega 10', 'NVIDIA GeForce MX150',\n",
       "       'AMD Radeon Athlon 3000G', 'AMD Radeon R7', 'AMD Radeon RX 6800M',\n",
       "       None, 'NVIDIA GeForce MX330', 'AMD Radeon RX 6650M',\n",
       "       'NVIDIA GeForce RTX 4080', 'NVIDIA GeForce RTX 4090'], dtype=object)"
      ]
     },
     "execution_count": 89,
     "metadata": {},
     "output_type": "execute_result"
    }
   ],
   "source": [
    "df['GPU'].unique()"
   ]
  },
  {
   "cell_type": "code",
   "execution_count": 90,
   "metadata": {},
   "outputs": [
    {
     "data": {
      "text/plain": [
       "array(['MSI', 'AXL', 'HP', 'Acer', 'CHUWI', 'Lenovo', 'DELL', 'SAMSUNG',\n",
       "       'Infinix', 'ASUS', 'Apple', 'ZEBRONICS', 'WINGS', 'realme',\n",
       "       'GIGABYTE', 'LG', 'MICROSOFT', 'Vaio', 'Honor', 'Ultimus', 'iball',\n",
       "       'walker', 'Primebook'], dtype=object)"
      ]
     },
     "execution_count": 90,
     "metadata": {},
     "output_type": "execute_result"
    }
   ],
   "source": [
    "df['brand'].unique()"
   ]
  },
  {
   "cell_type": "code",
   "execution_count": 91,
   "metadata": {},
   "outputs": [
    {
     "data": {
      "text/plain": [
       "array(['Gaming Laptop', 'Thin and Light Laptop', 'Notebook',\n",
       "       '2 in 1 Laptop', 'Business Laptop', 'Laptop', 'Chromebook',\n",
       "       'Creator Laptop', 'Handheld Gaming PC', '2 in 1 Gaming Laptop'],\n",
       "      dtype=object)"
      ]
     },
     "execution_count": 91,
     "metadata": {},
     "output_type": "execute_result"
    }
   ],
   "source": [
    "df['type'].unique()"
   ]
  },
  {
   "cell_type": "code",
   "execution_count": 92,
   "metadata": {},
   "outputs": [
    {
     "data": {
      "image/png": "[encoded data removed]",
      "text/plain": [
       "<Figure size 1000x800 with 2 Axes>"
      ]
     },
     "metadata": {},
     "output_type": "display_data"
    }
   ],
   "source": [
    "numerical_cols = df.select_dtypes(include=['int64', 'float64']).columns\n",
    "correlation_matrix = df[numerical_cols].corr()\n",
    "plt.figure(figsize=(10, 8))\n",
    "sns.heatmap(correlation_matrix, annot=True, cmap='coolwarm', fmt=\".2f\", linewidths=0.5)\n",
    "plt.title('Correlation Heatmap of Numerical Attributes')\n",
    "plt.show()"
   ]
  },
  {
   "cell_type": "code",
   "execution_count": 93,
   "metadata": {},
   "outputs": [
    {
     "name": "stdout",
     "output_type": "stream",
     "text": [
      "<class 'pandas.core.frame.DataFrame'>\n",
      "Index: 1532 entries, 0 to 1910\n",
      "Data columns (total 15 columns):\n",
      " #   Column       Non-Null Count  Dtype  \n",
      "---  ------       --------------  -----  \n",
      " 0   brand        1532 non-null   object \n",
      " 1   type         1532 non-null   object \n",
      " 2   msoffice     1532 non-null   int64  \n",
      " 3   RAM          1532 non-null   int64  \n",
      " 4   SSDCap       1532 non-null   int64  \n",
      " 5   HDDCap       1532 non-null   int64  \n",
      " 6   GPU          1531 non-null   object \n",
      " 7   OS           1532 non-null   object \n",
      " 8   Touchscreen  1532 non-null   int64  \n",
      " 9   refreshrate  1532 non-null   int32  \n",
      " 10  Weight       1532 non-null   float64\n",
      " 11  BacklitKB    1532 non-null   int64  \n",
      " 12  warranty     1532 non-null   int32  \n",
      " 13  PPI          1532 non-null   float64\n",
      " 14  Processor    1532 non-null   object \n",
      "dtypes: float64(2), int32(2), int64(6), object(5)\n",
      "memory usage: 179.5+ KB\n"
     ]
    }
   ],
   "source": [
    "X = df.drop(columns = ['price'])\n",
    "y = np.log(df['price'])\n",
    "X.info()"
   ]
  },
  {
   "cell_type": "code",
   "execution_count": 94,
   "metadata": {},
   "outputs": [
    {
     "name": "stdout",
     "output_type": "stream",
     "text": [
      "<class 'pandas.core.series.Series'>\n",
      "Index: 1532 entries, 0 to 1910\n",
      "Series name: price\n",
      "Non-Null Count  Dtype  \n",
      "--------------  -----  \n",
      "1532 non-null   float64\n",
      "dtypes: float64(1)\n",
      "memory usage: 23.9 KB\n"
     ]
    }
   ],
   "source": [
    "y.info()"
   ]
  },
  {
   "cell_type": "code",
   "execution_count": 95,
   "metadata": {},
   "outputs": [],
   "source": [
    "from sklearn.compose import ColumnTransformer\n",
    "from sklearn.pipeline import Pipeline\n",
    "from sklearn.preprocessing import OneHotEncoder\n",
    "from sklearn.metrics import r2_score,mean_absolute_error\n",
    "from sklearn.linear_model import LinearRegression,Ridge,Lasso\n",
    "from sklearn.neighbors import KNeighborsRegressor\n",
    "from sklearn.tree import DecisionTreeRegressor\n",
    "from sklearn.ensemble import RandomForestRegressor,GradientBoostingRegressor,AdaBoostRegressor,ExtraTreesRegressor\n",
    "from sklearn.svm import SVR\n",
    "from xgboost import XGBRegressor\n",
    "from sklearn.model_selection import train_test_split"
   ]
  },
  {
   "cell_type": "code",
   "execution_count": 96,
   "metadata": {},
   "outputs": [],
   "source": [
    "X_train,X_test,y_train,y_test = train_test_split(X,y,test_size=0.3,random_state=2)"
   ]
  },
  {
   "cell_type": "code",
   "execution_count": 126,
   "metadata": {},
   "outputs": [
    {
     "data": {
      "text/html": [
       "<div>\n",
       "<style scoped>\n",
       "    .dataframe tbody tr th:only-of-type {\n",
       "        vertical-align: middle;\n",
       "    }\n",
       "\n",
       "    .dataframe tbody tr th {\n",
       "        vertical-align: top;\n",
       "    }\n",
       "\n",
       "    .dataframe thead th {\n",
       "        text-align: right;\n",
       "    }\n",
       "</style>\n",
       "<table border=\"1\" class=\"dataframe\">\n",
       "  <thead>\n",
       "    <tr style=\"text-align: right;\">\n",
       "      <th></th>\n",
       "      <th>brand</th>\n",
       "      <th>type</th>\n",
       "      <th>msoffice</th>\n",
       "      <th>RAM</th>\n",
       "      <th>SSDCap</th>\n",
       "      <th>HDDCap</th>\n",
       "      <th>GPU</th>\n",
       "      <th>OS</th>\n",
       "      <th>Touchscreen</th>\n",
       "      <th>refreshrate</th>\n",
       "      <th>Weight</th>\n",
       "      <th>BacklitKB</th>\n",
       "      <th>warranty</th>\n",
       "      <th>PPI</th>\n",
       "      <th>Processor</th>\n",
       "    </tr>\n",
       "  </thead>\n",
       "  <tbody>\n",
       "    <tr>\n",
       "      <th>1646</th>\n",
       "      <td>SAMSUNG</td>\n",
       "      <td>Thin and Light Laptop</td>\n",
       "      <td>1</td>\n",
       "      <td>16</td>\n",
       "      <td>1024</td>\n",
       "      <td>0</td>\n",
       "      <td>Intel Integrated Iris X graphics</td>\n",
       "      <td>Windows 11 Home</td>\n",
       "      <td>0</td>\n",
       "      <td>60</td>\n",
       "      <td>1.56</td>\n",
       "      <td>1</td>\n",
       "      <td>1</td>\n",
       "      <td>212.264575</td>\n",
       "      <td>Intel Core i7</td>\n",
       "    </tr>\n",
       "    <tr>\n",
       "      <th>39</th>\n",
       "      <td>DELL</td>\n",
       "      <td>Laptop</td>\n",
       "      <td>1</td>\n",
       "      <td>8</td>\n",
       "      <td>512</td>\n",
       "      <td>0</td>\n",
       "      <td>Intel Integrated UHD</td>\n",
       "      <td>Windows 11 Home</td>\n",
       "      <td>0</td>\n",
       "      <td>60</td>\n",
       "      <td>1.83</td>\n",
       "      <td>0</td>\n",
       "      <td>1</td>\n",
       "      <td>141.211998</td>\n",
       "      <td>Intel Core i5</td>\n",
       "    </tr>\n",
       "    <tr>\n",
       "      <th>1748</th>\n",
       "      <td>ASUS</td>\n",
       "      <td>Thin and Light Laptop</td>\n",
       "      <td>1</td>\n",
       "      <td>8</td>\n",
       "      <td>512</td>\n",
       "      <td>0</td>\n",
       "      <td>Intel Integrated UHD</td>\n",
       "      <td>Windows 10 Home</td>\n",
       "      <td>0</td>\n",
       "      <td>60</td>\n",
       "      <td>1.40</td>\n",
       "      <td>1</td>\n",
       "      <td>1</td>\n",
       "      <td>157.350512</td>\n",
       "      <td>Intel Core i3</td>\n",
       "    </tr>\n",
       "    <tr>\n",
       "      <th>1698</th>\n",
       "      <td>Lenovo</td>\n",
       "      <td>Thin and Light Laptop</td>\n",
       "      <td>1</td>\n",
       "      <td>16</td>\n",
       "      <td>512</td>\n",
       "      <td>0</td>\n",
       "      <td>AMD Radeon Vega Graphics</td>\n",
       "      <td>Windows 11 Home</td>\n",
       "      <td>0</td>\n",
       "      <td>60</td>\n",
       "      <td>1.65</td>\n",
       "      <td>0</td>\n",
       "      <td>2</td>\n",
       "      <td>141.211998</td>\n",
       "      <td>AMD Ryzen 5 Hexa Core</td>\n",
       "    </tr>\n",
       "    <tr>\n",
       "      <th>642</th>\n",
       "      <td>Apple</td>\n",
       "      <td>Thin and Light Laptop</td>\n",
       "      <td>0</td>\n",
       "      <td>8</td>\n",
       "      <td>256</td>\n",
       "      <td>0</td>\n",
       "      <td>NIL</td>\n",
       "      <td>macOS Ventura</td>\n",
       "      <td>0</td>\n",
       "      <td>60</td>\n",
       "      <td>1.51</td>\n",
       "      <td>1</td>\n",
       "      <td>1</td>\n",
       "      <td>224.221076</td>\n",
       "      <td>Apple M2</td>\n",
       "    </tr>\n",
       "    <tr>\n",
       "      <th>...</th>\n",
       "      <td>...</td>\n",
       "      <td>...</td>\n",
       "      <td>...</td>\n",
       "      <td>...</td>\n",
       "      <td>...</td>\n",
       "      <td>...</td>\n",
       "      <td>...</td>\n",
       "      <td>...</td>\n",
       "      <td>...</td>\n",
       "      <td>...</td>\n",
       "      <td>...</td>\n",
       "      <td>...</td>\n",
       "      <td>...</td>\n",
       "      <td>...</td>\n",
       "      <td>...</td>\n",
       "    </tr>\n",
       "    <tr>\n",
       "      <th>542</th>\n",
       "      <td>ASUS</td>\n",
       "      <td>Gaming Laptop</td>\n",
       "      <td>1</td>\n",
       "      <td>16</td>\n",
       "      <td>1024</td>\n",
       "      <td>0</td>\n",
       "      <td>NVIDIA GeForce RTX 3050</td>\n",
       "      <td>Windows 11 Home</td>\n",
       "      <td>0</td>\n",
       "      <td>60</td>\n",
       "      <td>1.80</td>\n",
       "      <td>1</td>\n",
       "      <td>1</td>\n",
       "      <td>141.509717</td>\n",
       "      <td>Intel Core i7</td>\n",
       "    </tr>\n",
       "    <tr>\n",
       "      <th>338</th>\n",
       "      <td>Acer</td>\n",
       "      <td>Thin and Light Laptop</td>\n",
       "      <td>0</td>\n",
       "      <td>8</td>\n",
       "      <td>512</td>\n",
       "      <td>0</td>\n",
       "      <td>Intel Integrated Graphics</td>\n",
       "      <td>Windows 11 Home</td>\n",
       "      <td>0</td>\n",
       "      <td>60</td>\n",
       "      <td>1.69</td>\n",
       "      <td>0</td>\n",
       "      <td>1</td>\n",
       "      <td>141.211998</td>\n",
       "      <td>Intel Core i3</td>\n",
       "    </tr>\n",
       "    <tr>\n",
       "      <th>574</th>\n",
       "      <td>Infinix</td>\n",
       "      <td>Business Laptop</td>\n",
       "      <td>1</td>\n",
       "      <td>32</td>\n",
       "      <td>1024</td>\n",
       "      <td>0</td>\n",
       "      <td>Intel Integrated Iris X graphics</td>\n",
       "      <td>Windows 11 Home</td>\n",
       "      <td>0</td>\n",
       "      <td>60</td>\n",
       "      <td>1.80</td>\n",
       "      <td>1</td>\n",
       "      <td>1</td>\n",
       "      <td>141.211998</td>\n",
       "      <td>Intel Core i9</td>\n",
       "    </tr>\n",
       "    <tr>\n",
       "      <th>618</th>\n",
       "      <td>HP</td>\n",
       "      <td>Thin and Light Laptop</td>\n",
       "      <td>1</td>\n",
       "      <td>8</td>\n",
       "      <td>512</td>\n",
       "      <td>0</td>\n",
       "      <td>AMD Radeon Vega Graphics</td>\n",
       "      <td>Windows 11 Home</td>\n",
       "      <td>0</td>\n",
       "      <td>60</td>\n",
       "      <td>1.69</td>\n",
       "      <td>0</td>\n",
       "      <td>1</td>\n",
       "      <td>141.211998</td>\n",
       "      <td>AMD Ryzen 3 Quad Core</td>\n",
       "    </tr>\n",
       "    <tr>\n",
       "      <th>1430</th>\n",
       "      <td>Infinix</td>\n",
       "      <td>Thin and Light Laptop</td>\n",
       "      <td>0</td>\n",
       "      <td>16</td>\n",
       "      <td>512</td>\n",
       "      <td>0</td>\n",
       "      <td>Intel Integrated Iris X graphics</td>\n",
       "      <td>Windows 11 Home</td>\n",
       "      <td>0</td>\n",
       "      <td>60</td>\n",
       "      <td>1.78</td>\n",
       "      <td>0</td>\n",
       "      <td>1</td>\n",
       "      <td>141.509717</td>\n",
       "      <td>Intel Core i5</td>\n",
       "    </tr>\n",
       "  </tbody>\n",
       "</table>\n",
       "<p>1072 rows × 15 columns</p>\n",
       "</div>"
      ],
      "text/plain": [
       "        brand                   type  msoffice  RAM  SSDCap  HDDCap  \\\n",
       "1646  SAMSUNG  Thin and Light Laptop         1   16    1024       0   \n",
       "39       DELL                 Laptop         1    8     512       0   \n",
       "1748     ASUS  Thin and Light Laptop         1    8     512       0   \n",
       "1698   Lenovo  Thin and Light Laptop         1   16     512       0   \n",
       "642     Apple  Thin and Light Laptop         0    8     256       0   \n",
       "...       ...                    ...       ...  ...     ...     ...   \n",
       "542      ASUS          Gaming Laptop         1   16    1024       0   \n",
       "338      Acer  Thin and Light Laptop         0    8     512       0   \n",
       "574   Infinix        Business Laptop         1   32    1024       0   \n",
       "618        HP  Thin and Light Laptop         1    8     512       0   \n",
       "1430  Infinix  Thin and Light Laptop         0   16     512       0   \n",
       "\n",
       "                                   GPU               OS  Touchscreen  \\\n",
       "1646  Intel Integrated Iris X graphics  Windows 11 Home            0   \n",
       "39                Intel Integrated UHD  Windows 11 Home            0   \n",
       "1748              Intel Integrated UHD  Windows 10 Home            0   \n",
       "1698          AMD Radeon Vega Graphics  Windows 11 Home            0   \n",
       "642                                NIL    macOS Ventura            0   \n",
       "...                                ...              ...          ...   \n",
       "542            NVIDIA GeForce RTX 3050  Windows 11 Home            0   \n",
       "338          Intel Integrated Graphics  Windows 11 Home            0   \n",
       "574   Intel Integrated Iris X graphics  Windows 11 Home            0   \n",
       "618           AMD Radeon Vega Graphics  Windows 11 Home            0   \n",
       "1430  Intel Integrated Iris X graphics  Windows 11 Home            0   \n",
       "\n",
       "      refreshrate  Weight  BacklitKB  warranty         PPI  \\\n",
       "1646           60    1.56          1         1  212.264575   \n",
       "39             60    1.83          0         1  141.211998   \n",
       "1748           60    1.40          1         1  157.350512   \n",
       "1698           60    1.65          0         2  141.211998   \n",
       "642            60    1.51          1         1  224.221076   \n",
       "...           ...     ...        ...       ...         ...   \n",
       "542            60    1.80          1         1  141.509717   \n",
       "338            60    1.69          0         1  141.211998   \n",
       "574            60    1.80          1         1  141.211998   \n",
       "618            60    1.69          0         1  141.211998   \n",
       "1430           60    1.78          0         1  141.509717   \n",
       "\n",
       "                  Processor  \n",
       "1646          Intel Core i7  \n",
       "39            Intel Core i5  \n",
       "1748          Intel Core i3  \n",
       "1698  AMD Ryzen 5 Hexa Core  \n",
       "642                Apple M2  \n",
       "...                     ...  \n",
       "542           Intel Core i7  \n",
       "338           Intel Core i3  \n",
       "574           Intel Core i9  \n",
       "618   AMD Ryzen 3 Quad Core  \n",
       "1430          Intel Core i5  \n",
       "\n",
       "[1072 rows x 15 columns]"
      ]
     },
     "execution_count": 126,
     "metadata": {},
     "output_type": "execute_result"
    }
   ],
   "source": [
    "X_train"
   ]
  },
  {
   "cell_type": "code",
   "execution_count": 98,
   "metadata": {},
   "outputs": [
    {
     "name": "stdout",
     "output_type": "stream",
     "text": [
      "R2 score: 0.910064412750866\n",
      "MAE: 0.11376817136468176\n"
     ]
    },
    {
     "name": "stderr",
     "output_type": "stream",
     "text": [
      "c:\\Users\\vsing\\AppData\\Local\\Programs\\Python\\Python312\\Lib\\site-packages\\sklearn\\preprocessing\\_encoders.py:241: UserWarning: Found unknown categories in columns [0, 2, 3, 4] during transform. These unknown categories will be encoded as all zeros\n",
      "  warnings.warn(\n"
     ]
    }
   ],
   "source": [
    "step1 = ColumnTransformer(transformers=[\n",
    "    ('col_tnf', OneHotEncoder(drop='first', handle_unknown='ignore'), [0, 1, 6, 7, 14])\n",
    "], remainder='passthrough')\n",
    "\n",
    "step2 = LinearRegression()\n",
    "\n",
    "linear_pipe = Pipeline([\n",
    "    ('step1', step1),\n",
    "    ('step2', step2)\n",
    "])\n",
    "\n",
    "linear_pipe.fit(X_train, y_train)\n",
    "\n",
    "y_pred_linear = linear_pipe.predict(X_test)\n",
    "\n",
    "print('R2 score:', r2_score(y_test, y_pred_linear))\n",
    "print('MAE:', mean_absolute_error(y_test, y_pred_linear))"
   ]
  },
  {
   "cell_type": "code",
   "execution_count": 99,
   "metadata": {},
   "outputs": [
    {
     "name": "stdout",
     "output_type": "stream",
     "text": [
      "R2 score: 0.8827736569799706\n",
      "MAE: 0.132942272662697\n"
     ]
    },
    {
     "name": "stderr",
     "output_type": "stream",
     "text": [
      "c:\\Users\\vsing\\AppData\\Local\\Programs\\Python\\Python312\\Lib\\site-packages\\sklearn\\preprocessing\\_encoders.py:241: UserWarning: Found unknown categories in columns [0, 2, 3, 4] during transform. These unknown categories will be encoded as all zeros\n",
      "  warnings.warn(\n"
     ]
    }
   ],
   "source": [
    "step2 = Ridge(alpha=10)\n",
    "\n",
    "ridge_pipe = Pipeline([\n",
    "    ('step1',step1),\n",
    "    ('step2',step2)\n",
    "])\n",
    "\n",
    "ridge_pipe.fit(X_train,y_train)\n",
    "\n",
    "y_pred_ridge = ridge_pipe.predict(X_test)\n",
    "\n",
    "print('R2 score:',r2_score(y_test,y_pred_ridge))\n",
    "print('MAE:',mean_absolute_error(y_test,y_pred_ridge))"
   ]
  },
  {
   "cell_type": "code",
   "execution_count": 100,
   "metadata": {},
   "outputs": [
    {
     "name": "stdout",
     "output_type": "stream",
     "text": [
      "R2 score: 0.894453250685918\n",
      "MAE: 0.12516536377443405\n"
     ]
    },
    {
     "name": "stderr",
     "output_type": "stream",
     "text": [
      "c:\\Users\\vsing\\AppData\\Local\\Programs\\Python\\Python312\\Lib\\site-packages\\sklearn\\preprocessing\\_encoders.py:241: UserWarning: Found unknown categories in columns [0, 2, 3, 4] during transform. These unknown categories will be encoded as all zeros\n",
      "  warnings.warn(\n"
     ]
    }
   ],
   "source": [
    "step2 = Lasso(alpha=0.001)\n",
    "\n",
    "lasso_pipe = Pipeline([\n",
    "    ('step1',step1),\n",
    "    ('step2',step2)\n",
    "])\n",
    "\n",
    "lasso_pipe.fit(X_train,y_train)\n",
    "\n",
    "y_pred_lasso = lasso_pipe.predict(X_test)\n",
    "\n",
    "print('R2 score:',r2_score(y_test,y_pred_lasso))\n",
    "print('MAE:',mean_absolute_error(y_test,y_pred_lasso))"
   ]
  },
  {
   "cell_type": "code",
   "execution_count": 101,
   "metadata": {},
   "outputs": [
    {
     "name": "stdout",
     "output_type": "stream",
     "text": [
      "R2 score: 0.9041379706401582\n",
      "MAE: 0.12001980428010497\n"
     ]
    },
    {
     "name": "stderr",
     "output_type": "stream",
     "text": [
      "c:\\Users\\vsing\\AppData\\Local\\Programs\\Python\\Python312\\Lib\\site-packages\\sklearn\\preprocessing\\_encoders.py:241: UserWarning: Found unknown categories in columns [0, 2, 3, 4] during transform. These unknown categories will be encoded as all zeros\n",
      "  warnings.warn(\n"
     ]
    }
   ],
   "source": [
    "from sklearn.linear_model import ElasticNet\n",
    "\n",
    "elasticnet_model = ElasticNet(alpha=0.001, l1_ratio=0.5)\n",
    "\n",
    "elasticnet_pipe = Pipeline([\n",
    "    ('step1', step1),\n",
    "    ('elasticnet', elasticnet_model)\n",
    "])\n",
    "\n",
    "elasticnet_pipe.fit(X_train, y_train)\n",
    "\n",
    "# Make predictions using ElasticNet pipeline\n",
    "y_pred_elasticnet = elasticnet_pipe.predict(X_test)\n",
    "\n",
    "# Evaluate ElasticNet model\n",
    "print('R2 score:', r2_score(y_test, y_pred_elasticnet))\n",
    "print('MAE:', mean_absolute_error(y_test, y_pred_elasticnet))"
   ]
  },
  {
   "cell_type": "code",
   "execution_count": 102,
   "metadata": {},
   "outputs": [
    {
     "name": "stdout",
     "output_type": "stream",
     "text": [
      "R2 score: 0.923380990882068\n",
      "MAE: 0.08661792511530518\n"
     ]
    },
    {
     "name": "stderr",
     "output_type": "stream",
     "text": [
      "c:\\Users\\vsing\\AppData\\Local\\Programs\\Python\\Python312\\Lib\\site-packages\\sklearn\\preprocessing\\_encoders.py:241: UserWarning: Found unknown categories in columns [0, 2, 3, 4] during transform. These unknown categories will be encoded as all zeros\n",
      "  warnings.warn(\n"
     ]
    }
   ],
   "source": [
    "from sklearn.ensemble import RandomForestRegressor\n",
    "\n",
    "rf_model = RandomForestRegressor(n_estimators=250)\n",
    "\n",
    "rf_pipe = Pipeline([\n",
    "    ('step1', step1),\n",
    "    ('rf', rf_model)\n",
    "])\n",
    "\n",
    "rf_pipe.fit(X_train, y_train)\n",
    "\n",
    "y_pred_rf = rf_pipe.predict(X_test)\n",
    "\n",
    "print('R2 score:', r2_score(y_test, y_pred_rf))\n",
    "print('MAE:', mean_absolute_error(y_test, y_pred_rf))"
   ]
  },
  {
   "cell_type": "code",
   "execution_count": 103,
   "metadata": {},
   "outputs": [
    {
     "name": "stdout",
     "output_type": "stream",
     "text": [
      "R2 score: 0.9236685881348115\n",
      "MAE: 0.083064102341132\n"
     ]
    },
    {
     "name": "stderr",
     "output_type": "stream",
     "text": [
      "c:\\Users\\vsing\\AppData\\Local\\Programs\\Python\\Python312\\Lib\\site-packages\\sklearn\\preprocessing\\_encoders.py:241: UserWarning: Found unknown categories in columns [0, 2, 3, 4] during transform. These unknown categories will be encoded as all zeros\n",
      "  warnings.warn(\n"
     ]
    }
   ],
   "source": [
    "import xgboost as xgb\n",
    "\n",
    "xgb_model = xgb.XGBRegressor()\n",
    "\n",
    "xgb_pipe = Pipeline([\n",
    "    ('step1', step1),\n",
    "    ('xgb', xgb_model)\n",
    "])\n",
    "\n",
    "xgb_pipe.fit(X_train, y_train)\n",
    "\n",
    "y_pred_xgb = xgb_pipe.predict(X_test)\n",
    "\n",
    "print('R2 score:', r2_score(y_test, y_pred_xgb))\n",
    "print('MAE:', mean_absolute_error(y_test, y_pred_xgb))"
   ]
  },
  {
   "cell_type": "code",
   "execution_count": 104,
   "metadata": {},
   "outputs": [
    {
     "name": "stderr",
     "output_type": "stream",
     "text": [
      "c:\\Users\\vsing\\AppData\\Local\\Programs\\Python\\Python312\\Lib\\site-packages\\sklearn\\preprocessing\\_encoders.py:241: UserWarning: Found unknown categories in columns [0, 2, 3, 4] during transform. These unknown categories will be encoded as all zeros\n",
      "  warnings.warn(\n"
     ]
    },
    {
     "name": "stdout",
     "output_type": "stream",
     "text": [
      "R2 score (KNN): 0.846657032691472\n",
      "MAE (KNN): 0.14365154412295555\n"
     ]
    }
   ],
   "source": [
    "from sklearn.neighbors import KNeighborsRegressor\n",
    "\n",
    "knn_model = KNeighborsRegressor(n_neighbors=5)\n",
    "\n",
    "knn_pipe = Pipeline([\n",
    "    ('step1', step1),\n",
    "    ('knn', knn_model)\n",
    "])\n",
    "\n",
    "knn_pipe.fit(X_train, y_train)\n",
    "\n",
    "y_pred_knn = knn_pipe.predict(X_test)\n",
    "\n",
    "print('R2 score (KNN):', r2_score(y_test, y_pred_knn))\n",
    "print('MAE (KNN):', mean_absolute_error(y_test, y_pred_knn))"
   ]
  },
  {
   "cell_type": "code",
   "execution_count": 116,
   "metadata": {},
   "outputs": [
    {
     "name": "stdout",
     "output_type": "stream",
     "text": [
      "R2 score (Voting Regressor): 0.9346488245693197\n",
      "MAE (Voting Regressor): 0.09007750492410048\n"
     ]
    },
    {
     "name": "stderr",
     "output_type": "stream",
     "text": [
      "c:\\Users\\vsing\\AppData\\Local\\Programs\\Python\\Python312\\Lib\\site-packages\\sklearn\\preprocessing\\_encoders.py:241: UserWarning: Found unknown categories in columns [0, 2, 3, 4] during transform. These unknown categories will be encoded as all zeros\n",
      "  warnings.warn(\n"
     ]
    }
   ],
   "source": [
    "from sklearn.ensemble import VotingRegressor\n",
    "from sklearn.linear_model import Ridge, LinearRegression\n",
    "from sklearn.ensemble import RandomForestRegressor\n",
    "from xgboost import XGBRegressor\n",
    "from sklearn.metrics import r2_score, mean_absolute_error\n",
    "from sklearn.pipeline import Pipeline\n",
    "from sklearn.compose import ColumnTransformer\n",
    "from sklearn.preprocessing import OneHotEncoder\n",
    "from sklearn.model_selection import train_test_split\n",
    "\n",
    "# Assuming X_train, X_test, y_train, y_test are already defined\n",
    "\n",
    "# Define preprocessing step\n",
    "step1 = ColumnTransformer(transformers=[\n",
    "    ('col_tnf', OneHotEncoder(drop='first', handle_unknown='ignore'), [0, 1, 6, 7, 14])\n",
    "], remainder='passthrough')\n",
    "\n",
    "elasticnet_model = ElasticNet(alpha=0.001, l1_ratio=0.5)\n",
    "linear_model = LinearRegression()\n",
    "rf_model = RandomForestRegressor(n_estimators=250)\n",
    "xgb_model = XGBRegressor()\n",
    "\n",
    "voting_regressor = VotingRegressor([\n",
    "    ('elasticnet', elasticnet_model),\n",
    "    ('linear', linear_model),\n",
    "    ('rf', rf_model),\n",
    "    ('xgb', xgb_model)\n",
    "])\n",
    "\n",
    "voting_pipe = Pipeline([\n",
    "    ('step1', step1),\n",
    "    ('voting_regressor', voting_regressor)\n",
    "])\n",
    "\n",
    "voting_pipe.fit(X_train, y_train)\n",
    "\n",
    "y_pred_vr = voting_pipe.predict(X_test)\n",
    "\n",
    "print('R2 score (Voting Regressor):', r2_score(y_test, y_pred_vr))\n",
    "print('MAE (Voting Regressor):', mean_absolute_error(y_test, y_pred_vr))"
   ]
  },
  {
   "cell_type": "code",
   "execution_count": 119,
   "metadata": {},
   "outputs": [
    {
     "name": "stdout",
     "output_type": "stream",
     "text": [
      "R2 score (Stacking Regressor): 0.9351477839354411\n",
      "MAE (Stacking Regressor): 0.08538070106534841\n"
     ]
    },
    {
     "name": "stderr",
     "output_type": "stream",
     "text": [
      "c:\\Users\\vsing\\AppData\\Local\\Programs\\Python\\Python312\\Lib\\site-packages\\sklearn\\preprocessing\\_encoders.py:241: UserWarning: Found unknown categories in columns [0, 2, 3, 4] during transform. These unknown categories will be encoded as all zeros\n",
      "  warnings.warn(\n"
     ]
    }
   ],
   "source": [
    "from sklearn.ensemble import StackingRegressor\n",
    "from sklearn.linear_model import Ridge, LinearRegression\n",
    "from sklearn.ensemble import RandomForestRegressor\n",
    "from xgboost import XGBRegressor\n",
    "from sklearn.pipeline import Pipeline\n",
    "from sklearn.compose import ColumnTransformer\n",
    "from sklearn.preprocessing import OneHotEncoder\n",
    "from sklearn.model_selection import train_test_split\n",
    "from sklearn.metrics import r2_score, mean_absolute_error\n",
    "\n",
    "step1 = ColumnTransformer(transformers=[\n",
    "    ('col_tnf', OneHotEncoder(drop='first', handle_unknown='ignore'), [0, 1, 6, 7, 14])\n",
    "], remainder='passthrough')\n",
    "\n",
    "elasticnet_model = ElasticNet(alpha=0.001, l1_ratio=0.5)\n",
    "linear_model = LinearRegression()\n",
    "rf_model = RandomForestRegressor(n_estimators=250)\n",
    "xgb_model = XGBRegressor()\n",
    "\n",
    "base_models = [\n",
    "    ('elasticnet', elasticnet_model),\n",
    "    ('linear', linear_model),\n",
    "    ('rf', rf_model),\n",
    "    ('xgb', xgb_model)\n",
    "]\n",
    "\n",
    "stacking_regressor = StackingRegressor(\n",
    "    estimators=base_models,\n",
    "    final_estimator=Ridge()\n",
    ")\n",
    "\n",
    "stk_pipe = Pipeline([\n",
    "    ('step1', step1),\n",
    "    ('stacking_regressor', stacking_regressor)\n",
    "])\n",
    "\n",
    "stk_pipe.fit(X_train, y_train)\n",
    "\n",
    "y_pred_stk = stk_pipe.predict(X_test)\n",
    "\n",
    "print('R2 score (Stacking Regressor):', r2_score(y_test, y_pred_stk))\n",
    "print('MAE (Stacking Regressor):', mean_absolute_error(y_test, y_pred_stk))"
   ]
  },
  {
   "cell_type": "markdown",
   "metadata": {},
   "source": [
    "#### We export the best model\n",
    "- we will export voting regressor as it gave best result although stacking was highest but time was thrice as much"
   ]
  },
  {
   "cell_type": "code",
   "execution_count": 122,
   "metadata": {},
   "outputs": [],
   "source": [
    "import pickle\n",
    "\n",
    "# Exporting the trained model\n",
    "pickle.dump(voting_pipe, open('voting_model.pkl', 'wb'))\n",
    "\n",
    "# Save DataFrame as CSV\n",
    "df.to_csv('laptop_data_processed.csv', index=False)"
   ]
  },
  {
   "cell_type": "code",
   "execution_count": 125,
   "metadata": {},
   "outputs": [
    {
     "name": "stdout",
     "output_type": "stream",
     "text": [
      "<class 'pandas.core.frame.DataFrame'>\n",
      "Index: 1532 entries, 0 to 1910\n",
      "Data columns (total 16 columns):\n",
      " #   Column       Non-Null Count  Dtype  \n",
      "---  ------       --------------  -----  \n",
      " 0   brand        1532 non-null   object \n",
      " 1   type         1532 non-null   object \n",
      " 2   msoffice     1532 non-null   int64  \n",
      " 3   RAM          1532 non-null   int64  \n",
      " 4   SSDCap       1532 non-null   int64  \n",
      " 5   HDDCap       1532 non-null   int64  \n",
      " 6   GPU          1531 non-null   object \n",
      " 7   OS           1532 non-null   object \n",
      " 8   Touchscreen  1532 non-null   int64  \n",
      " 9   refreshrate  1532 non-null   int32  \n",
      " 10  Weight       1532 non-null   float64\n",
      " 11  BacklitKB    1532 non-null   int64  \n",
      " 12  warranty     1532 non-null   int32  \n",
      " 13  price        1532 non-null   float64\n",
      " 14  PPI          1532 non-null   float64\n",
      " 15  Processor    1532 non-null   object \n",
      "dtypes: float64(3), int32(2), int64(6), object(5)\n",
      "memory usage: 191.5+ KB\n"
     ]
    }
   ],
   "source": [
    "df.info()"
   ]
  }
 ],
 "metadata": {
  "kernelspec": {
   "display_name": "Python 3",
   "language": "python",
   "name": "python3"
  },
  "language_info": {
   "codemirror_mode": {
    "name": "ipython",
    "version": 3
   },
   "file_extension": ".py",
   "mimetype": "text/x-python",
   "name": "python",
   "nbconvert_exporter": "python",
   "pygments_lexer": "ipython3",
   "version": "3.12.2"
  }
 },
 "nbformat": 4,
 "nbformat_minor": 2
}
